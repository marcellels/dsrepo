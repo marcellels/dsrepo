{
  "nbformat": 4,
  "nbformat_minor": 0,
  "metadata": {
    "colab": {
      "name": "Analisando a Violência Contra a Mulher_RS.ipynb",
      "provenance": [],
      "collapsed_sections": [],
      "include_colab_link": true
    },
    "kernelspec": {
      "name": "python3",
      "display_name": "Python 3"
    }
  },
  "cells": [
    {
      "cell_type": "markdown",
      "metadata": {
        "id": "view-in-github",
        "colab_type": "text"
      },
      "source": [
        "<a href=\"https://colab.research.google.com/github/marcellels/dsrepo/blob/master/Analisando_a_Viol%C3%AAncia_Contra_a_Mulher_RS.ipynb\" target=\"_parent\"><img src=\"https://colab.research.google.com/assets/colab-badge.svg\" alt=\"Open In Colab\"/></a>"
      ]
    },
    {
      "cell_type": "markdown",
      "metadata": {
        "id": "kLI0gJtzDGuQ",
        "colab_type": "text"
      },
      "source": [
        "# Análise da Violência Contra a Mulher no Rio Grande do Sul\n",
        "\n",
        "Frequentemente são reportados nos meios de comunicação notícias sobre a violência contra a mulher. Não importa aonde você esteja localizado, as atrocidades realizadas por parceiros ou mesmo por familiares parece não ter fim.\n",
        "\n",
        "O que é ainda pior, além de não terem fim, os índices continuam aumentando.\n",
        "\n",
        "<center><img alt=\"Munique\" width=\"50%\" src=\"https://images.pexels.com/photos/568021/pexels-photo-568021.jpeg?auto=compress&cs=tinysrgb&dpr=1&w=500\"></center>\n",
        "\n",
        "Neste notebook, será realizada uma avaliação do **cenário da violência contra a mulher no estado do Rio Grande do Sul**. Para maiores informações sobre os dados registrados no país, consulte o [Anuário Brasileiro de Segurança Pública de 2019](http://www.forumseguranca.org.br/wp-content/uploads/2019/09/Anuario-2019-FINAL-v3.pdf)."
      ]
    },
    {
      "cell_type": "markdown",
      "metadata": {
        "id": "0zxQHhIUDF_2",
        "colab_type": "text"
      },
      "source": [
        "## Obtenção dos Dados\n",
        "\n",
        "Os dados utilizados nesta análise foram obtidos através do site da [Secretaria da Segurança Pública](https://ssp.rs.gov.br/indicadores-da-violencia-contra-a-mulher) do Rio Grande do Sul.\n",
        "\n",
        "Sobre os indicadores monitorados e reportados nestes dados, o [Observatório da Violência Contra a Mulher](https://ssp.rs.gov.br/observatorio-da-violencia-contra-a-mulher) pontua:\n",
        "\n",
        "\n",
        "> Os principais indicadores de âmbito estadual monitorados e divulgados mensalmente dizem respeito ao fenômeno da violência contra as mulheres, tal como definido pela Lei 11.340/06 (Lei Maria da Penha), exercida no âmbito familiar ou de relações íntimas.\n",
        "São eles: lesão corporal, ameaça e estupro em situação familiar ou íntima. \n",
        "Também são monitorados os casos de feminicídio tentados e consumados, definidos a partir da Lei 13.104/15 (Lei do Feminicídio).\n",
        "\n",
        "Ao longo do estudo, foram utilizados dois tipos de arquivos distintos.\n",
        "\n",
        "O primeiro é um compilado de informações de ocorrências de violência contra a mulher que aconteceram entre os anos de 2012 a 2019, mês a mês.\n",
        "\n",
        "Os demais são divididos entre os tipos de ocorrência por município ao longo do ano de 2019 apenas."
      ]
    },
    {
      "cell_type": "code",
      "metadata": {
        "id": "CYLNme_OCX_R",
        "colab_type": "code",
        "colab": {}
      },
      "source": [
        "# importar os pacotes necessários\n",
        "import pandas as pd\n",
        "import numpy as np\n",
        "import matplotlib.pyplot as plt\n"
      ],
      "execution_count": 33,
      "outputs": []
    },
    {
      "cell_type": "code",
      "metadata": {
        "id": "CPZfDLzHrtur",
        "colab_type": "code",
        "colab": {}
      },
      "source": [
        "# importar arquivos\n",
        "\n",
        "# violência contra a mulher no RS entre 2012 e 2019\n",
        "df = pd.read_csv(\"https://raw.githubusercontent.com/marcellels/dsrepo/master/Database/Viol%C3%AAncia%20Contra%20a%20Mulher%20(RS)/Dados_Violencia_Contra_Mulher_RS_2012_2019.csv\", delimiter=\";\")\n",
        "df.data = pd.to_datetime(df.data, format=\"%m-%Y\")\n",
        "\n",
        "# violência contra a mulher no RS em 2019 por município\n",
        "df_ameaca = pd.read_csv(\"https://raw.githubusercontent.com/marcellels/dsrepo/master/Database/Viol%C3%AAncia%20Contra%20a%20Mulher%20(RS)/DF_2019_Ameaca.csv\", delimiter=\";\",encoding='ISO-8859-1')\n",
        "df_ameaca.set_index('CIDADES', inplace=True)\n",
        "df_lesao = pd.read_csv(\"https://raw.githubusercontent.com/marcellels/dsrepo/master/Database/Viol%C3%AAncia%20Contra%20a%20Mulher%20(RS)/DF_2019_Lesao_Corporal.csv\", delimiter=\";\",encoding='ISO-8859-1')\n",
        "df_lesao.set_index('CIDADES', inplace=True)\n",
        "df_estupro = pd.read_csv(\"https://raw.githubusercontent.com/marcellels/dsrepo/master/Database/Viol%C3%AAncia%20Contra%20a%20Mulher%20(RS)/DF_2019_Estupro.csv\", delimiter=\";\",encoding='ISO-8859-1')\n",
        "df_estupro.set_index('CIDADES', inplace=True)\n",
        "df_fem = pd.read_csv(\"https://raw.githubusercontent.com/marcellels/dsrepo/master/Database/Viol%C3%AAncia%20Contra%20a%20Mulher%20(RS)/DF_2019_Feminicidio.csv\", delimiter=\";\",encoding='ISO-8859-1')\n",
        "df_fem.set_index('CIDADES', inplace=True)\n",
        "df_femtent = pd.read_csv(\"https://raw.githubusercontent.com/marcellels/dsrepo/master/Database/Viol%C3%AAncia%20Contra%20a%20Mulher%20(RS)/DF_2019_Feminicidio_Tentativa.csv\", delimiter=\";\",encoding='ISO-8859-1')\n",
        "df_femtent.set_index('CIDADES', inplace=True)"
      ],
      "execution_count": 34,
      "outputs": []
    },
    {
      "cell_type": "markdown",
      "metadata": {
        "id": "qb5By2nIMS6m",
        "colab_type": "text"
      },
      "source": [
        "## Análise Inicial dos Dados\n",
        "\n",
        "Para uma melhor contextualização, será realizada uma breve análise do conjunto de dados para avaliar seu tamanho, sua consistência e determinar quais variáveis estarão disponíveis para trabalhar.\n",
        "\n",
        "**A saber:**\n",
        "- Feminicídio: Homicídio praticado contra vítima mulher por motivações baseadas em violência doméstica e/ou intrafamiliar, ou em caso de menosprezo ou discriminação pela condição de mulher.\n",
        "- Estupro: O *dataset* considera os dados referentes a Estupro e Estupro de Vulnerável.\n",
        "\n",
        "Partindo para a análise, primeiramente portanto, determina-se o tamanho do *dataset*."
      ]
    },
    {
      "cell_type": "code",
      "metadata": {
        "id": "z_RM9_kMAIMa",
        "colab_type": "code",
        "colab": {
          "base_uri": "https://localhost:8080/",
          "height": 51
        },
        "outputId": "0fc793aa-0f41-4ebe-fe4f-99cf2de8866d"
      },
      "source": [
        "# identificar número de variáveis e entradas\n",
        "print(\"Variáveis:\\t\", df.shape[1])\n",
        "print(\"Entradas:\\t\", df.shape[0])"
      ],
      "execution_count": 35,
      "outputs": [
        {
          "output_type": "stream",
          "text": [
            "Variáveis:\t 6\n",
            "Entradas:\t 96\n"
          ],
          "name": "stdout"
        }
      ]
    },
    {
      "cell_type": "markdown",
      "metadata": {
        "id": "cv4poIxxFdiy",
        "colab_type": "text"
      },
      "source": [
        "Através desta avaliação, determinou-se que existem seis variáveis (colunas) a serem trabalhadas. Desta forma, identifica-se quais são elas."
      ]
    },
    {
      "cell_type": "code",
      "metadata": {
        "id": "bsy3oCl7EerM",
        "colab_type": "code",
        "colab": {
          "base_uri": "https://localhost:8080/",
          "height": 68
        },
        "outputId": "8b3be9ae-4520-416c-d557-5558d905d86a"
      },
      "source": [
        "# identificar variáveis\n",
        "df.columns"
      ],
      "execution_count": 36,
      "outputs": [
        {
          "output_type": "execute_result",
          "data": {
            "text/plain": [
              "Index(['data', 'ameaca', 'lesao', 'estupro', 'feminicidio',\n",
              "       'feminicidio_tentado'],\n",
              "      dtype='object')"
            ]
          },
          "metadata": {
            "tags": []
          },
          "execution_count": 36
        }
      ]
    },
    {
      "cell_type": "markdown",
      "metadata": {
        "id": "XBMjJlIqF9C_",
        "colab_type": "text"
      },
      "source": [
        "A seguir, verifica-se quais são os tipos de dados que cada uma dessas variáveis carrega e se será necessário fazer alguma conversão de tipo de variável para possibilitar a manipulação dos dados."
      ]
    },
    {
      "cell_type": "code",
      "metadata": {
        "id": "j_rsuYt0Ee10",
        "colab_type": "code",
        "colab": {
          "base_uri": "https://localhost:8080/",
          "height": 136
        },
        "outputId": "c40e7ae7-410b-41a8-c295-c88408c1efa2"
      },
      "source": [
        "# verificar os tipos de variáveis\n",
        "df.dtypes"
      ],
      "execution_count": 37,
      "outputs": [
        {
          "output_type": "execute_result",
          "data": {
            "text/plain": [
              "data                   datetime64[ns]\n",
              "ameaca                          int64\n",
              "lesao                           int64\n",
              "estupro                         int64\n",
              "feminicidio                     int64\n",
              "feminicidio_tentado           float64\n",
              "dtype: object"
            ]
          },
          "metadata": {
            "tags": []
          },
          "execution_count": 37
        }
      ]
    },
    {
      "cell_type": "markdown",
      "metadata": {
        "id": "ASqynMzgGYkz",
        "colab_type": "text"
      },
      "source": [
        "Como a variável `data` já havia sido convertida durante a importação dos dados, não será necessário fazer outras alterações.\n",
        "\n",
        "Para saber como as informações estão sendo dispostas no *DataFrame*, avalia-se as cinco primeiras entradas."
      ]
    },
    {
      "cell_type": "code",
      "metadata": {
        "id": "7MDR8jRXEeek",
        "colab_type": "code",
        "colab": {
          "base_uri": "https://localhost:8080/",
          "height": 204
        },
        "outputId": "6cb54feb-9a8e-4e79-94f8-65854bd50846"
      },
      "source": [
        "# exibir as 5 primeiras entradas\n",
        "df.head()"
      ],
      "execution_count": 38,
      "outputs": [
        {
          "output_type": "execute_result",
          "data": {
            "text/html": [
              "<div>\n",
              "<style scoped>\n",
              "    .dataframe tbody tr th:only-of-type {\n",
              "        vertical-align: middle;\n",
              "    }\n",
              "\n",
              "    .dataframe tbody tr th {\n",
              "        vertical-align: top;\n",
              "    }\n",
              "\n",
              "    .dataframe thead th {\n",
              "        text-align: right;\n",
              "    }\n",
              "</style>\n",
              "<table border=\"1\" class=\"dataframe\">\n",
              "  <thead>\n",
              "    <tr style=\"text-align: right;\">\n",
              "      <th></th>\n",
              "      <th>data</th>\n",
              "      <th>ameaca</th>\n",
              "      <th>lesao</th>\n",
              "      <th>estupro</th>\n",
              "      <th>feminicidio</th>\n",
              "      <th>feminicidio_tentado</th>\n",
              "    </tr>\n",
              "  </thead>\n",
              "  <tbody>\n",
              "    <tr>\n",
              "      <th>0</th>\n",
              "      <td>2012-01-01</td>\n",
              "      <td>4271</td>\n",
              "      <td>2655</td>\n",
              "      <td>154</td>\n",
              "      <td>12</td>\n",
              "      <td>NaN</td>\n",
              "    </tr>\n",
              "    <tr>\n",
              "      <th>1</th>\n",
              "      <td>2012-02-01</td>\n",
              "      <td>4040</td>\n",
              "      <td>2571</td>\n",
              "      <td>108</td>\n",
              "      <td>14</td>\n",
              "      <td>NaN</td>\n",
              "    </tr>\n",
              "    <tr>\n",
              "      <th>2</th>\n",
              "      <td>2012-03-01</td>\n",
              "      <td>3912</td>\n",
              "      <td>2305</td>\n",
              "      <td>126</td>\n",
              "      <td>8</td>\n",
              "      <td>NaN</td>\n",
              "    </tr>\n",
              "    <tr>\n",
              "      <th>3</th>\n",
              "      <td>2012-04-01</td>\n",
              "      <td>3527</td>\n",
              "      <td>2055</td>\n",
              "      <td>85</td>\n",
              "      <td>5</td>\n",
              "      <td>NaN</td>\n",
              "    </tr>\n",
              "    <tr>\n",
              "      <th>4</th>\n",
              "      <td>2012-05-01</td>\n",
              "      <td>3617</td>\n",
              "      <td>2012</td>\n",
              "      <td>106</td>\n",
              "      <td>8</td>\n",
              "      <td>NaN</td>\n",
              "    </tr>\n",
              "  </tbody>\n",
              "</table>\n",
              "</div>"
            ],
            "text/plain": [
              "        data  ameaca  lesao  estupro  feminicidio  feminicidio_tentado\n",
              "0 2012-01-01    4271   2655      154           12                  NaN\n",
              "1 2012-02-01    4040   2571      108           14                  NaN\n",
              "2 2012-03-01    3912   2305      126            8                  NaN\n",
              "3 2012-04-01    3527   2055       85            5                  NaN\n",
              "4 2012-05-01    3617   2012      106            8                  NaN"
            ]
          },
          "metadata": {
            "tags": []
          },
          "execution_count": 38
        }
      ]
    },
    {
      "cell_type": "markdown",
      "metadata": {
        "id": "idRkZElwHKfN",
        "colab_type": "text"
      },
      "source": [
        "Como já é possível observar, existem valores ausentes, portanto, para finalizar esta etapa inicial, é importante determinar quantos valores estão faltando no *dataset*."
      ]
    },
    {
      "cell_type": "code",
      "metadata": {
        "id": "JHV15WoEEz64",
        "colab_type": "code",
        "colab": {
          "base_uri": "https://localhost:8080/",
          "height": 136
        },
        "outputId": "6cf4e5af-f8f4-4e9f-e3eb-c4e824e927bc"
      },
      "source": [
        "# determinar % de valores ausentes por coluna\n",
        "(df.isnull().sum() / df.shape[0])*100"
      ],
      "execution_count": 39,
      "outputs": [
        {
          "output_type": "execute_result",
          "data": {
            "text/plain": [
              "data                    0.0\n",
              "ameaca                  0.0\n",
              "lesao                   0.0\n",
              "estupro                 0.0\n",
              "feminicidio             0.0\n",
              "feminicidio_tentado    12.5\n",
              "dtype: float64"
            ]
          },
          "metadata": {
            "tags": []
          },
          "execution_count": 39
        }
      ]
    },
    {
      "cell_type": "markdown",
      "metadata": {
        "id": "lJJI7bhKHWLs",
        "colab_type": "text"
      },
      "source": [
        "Conclui-se aqui que existem 12,5% de valores ausentes na variável `feminicidio_tentado`, o que corresponde a 12 linhas, como pode ser visto abaixo.\n",
        "\n",
        "Este número de linhas equivale, portanto, a 12 meses de informações indisponíveis."
      ]
    },
    {
      "cell_type": "code",
      "metadata": {
        "id": "iSPDI_o1GWlG",
        "colab_type": "code",
        "colab": {
          "base_uri": "https://localhost:8080/",
          "height": 34
        },
        "outputId": "8e113986-adf2-4d34-ba78-5db96b244362"
      },
      "source": [
        "# mostrar o número de valores ausentes da variável feminicidio_tentado\n",
        "print(\"Número de valores ausentes:\", df.feminicidio_tentado.isnull().sum())"
      ],
      "execution_count": 40,
      "outputs": [
        {
          "output_type": "stream",
          "text": [
            "Número de valores ausentes: 12\n"
          ],
          "name": "stdout"
        }
      ]
    },
    {
      "cell_type": "markdown",
      "metadata": {
        "id": "2iIMUiOTm-ka",
        "colab_type": "text"
      },
      "source": [
        "Como os valores ausentes impossibilitam efetuar o somatório das ocorrências para 12 meses e não se deseja excluir estas informações do conjunto de dados, decidiu-se considerar que não foram registradas ocorrências durante o período. É importante ter em mente, no entanto, que podem haver outros motivos para a falta destas informações."
      ]
    },
    {
      "cell_type": "code",
      "metadata": {
        "id": "WzD5O8DDm0U8",
        "colab_type": "code",
        "colab": {
          "base_uri": "https://localhost:8080/",
          "height": 142
        },
        "outputId": "ba2ba36f-48da-4137-dde8-1245aa4f39df"
      },
      "source": [
        "# substituir valores ausentes da variável feminicidio_tentado por 0 e torná-los números inteiros\n",
        "df = df.fillna({'feminicidio_tentado' : 0})\n",
        "df['feminicidio_tentado'] = df['feminicidio_tentado'].astype(int)\n",
        "\n",
        "# incluir coluna total com o somatório das ocorrências\n",
        "df['total'] = (df['ameaca'] + df['lesao'] + df['estupro'] + df['feminicidio'] + df['feminicidio_tentado'])\n",
        "\n",
        "# exibir 3 primeiras entradas para visualizar o resultado final\n",
        "df.head(3)"
      ],
      "execution_count": 45,
      "outputs": [
        {
          "output_type": "execute_result",
          "data": {
            "text/html": [
              "<div>\n",
              "<style scoped>\n",
              "    .dataframe tbody tr th:only-of-type {\n",
              "        vertical-align: middle;\n",
              "    }\n",
              "\n",
              "    .dataframe tbody tr th {\n",
              "        vertical-align: top;\n",
              "    }\n",
              "\n",
              "    .dataframe thead th {\n",
              "        text-align: right;\n",
              "    }\n",
              "</style>\n",
              "<table border=\"1\" class=\"dataframe\">\n",
              "  <thead>\n",
              "    <tr style=\"text-align: right;\">\n",
              "      <th></th>\n",
              "      <th>data</th>\n",
              "      <th>ameaca</th>\n",
              "      <th>lesao</th>\n",
              "      <th>estupro</th>\n",
              "      <th>feminicidio</th>\n",
              "      <th>feminicidio_tentado</th>\n",
              "      <th>total</th>\n",
              "    </tr>\n",
              "  </thead>\n",
              "  <tbody>\n",
              "    <tr>\n",
              "      <th>0</th>\n",
              "      <td>2012-01-01</td>\n",
              "      <td>4271</td>\n",
              "      <td>2655</td>\n",
              "      <td>154</td>\n",
              "      <td>12</td>\n",
              "      <td>0</td>\n",
              "      <td>7092</td>\n",
              "    </tr>\n",
              "    <tr>\n",
              "      <th>1</th>\n",
              "      <td>2012-02-01</td>\n",
              "      <td>4040</td>\n",
              "      <td>2571</td>\n",
              "      <td>108</td>\n",
              "      <td>14</td>\n",
              "      <td>0</td>\n",
              "      <td>6733</td>\n",
              "    </tr>\n",
              "    <tr>\n",
              "      <th>2</th>\n",
              "      <td>2012-03-01</td>\n",
              "      <td>3912</td>\n",
              "      <td>2305</td>\n",
              "      <td>126</td>\n",
              "      <td>8</td>\n",
              "      <td>0</td>\n",
              "      <td>6351</td>\n",
              "    </tr>\n",
              "  </tbody>\n",
              "</table>\n",
              "</div>"
            ],
            "text/plain": [
              "        data  ameaca  lesao  estupro  feminicidio  feminicidio_tentado  total\n",
              "0 2012-01-01    4271   2655      154           12                    0   7092\n",
              "1 2012-02-01    4040   2571      108           14                    0   6733\n",
              "2 2012-03-01    3912   2305      126            8                    0   6351"
            ]
          },
          "metadata": {
            "tags": []
          },
          "execution_count": 45
        }
      ]
    },
    {
      "cell_type": "markdown",
      "metadata": {
        "id": "G6dnsNYm-41g",
        "colab_type": "text"
      },
      "source": [
        "## Informações Estatísticas da Violência Contra a Mulher no RS entre 2012 e 2019\n",
        "\n",
        "\n",
        "Nesta seção, será apresentada a análise estatística dos dados reportados entre os anos de 2012 e 2019. Alguns pontos que se tentará esclarecer incluem:\n",
        "- Quantas ocorrências de violência contra a mulher foram reportadas durante o período?\n",
        "- Qual é a ocorrência mais frequente?\n",
        "- Em que período ocorreu o menor e o maior número de feminicídios no estado?\n",
        "- A violência contra a mulher vem aumento ou diminuindo ao longo dos anos?\n",
        "- Existe alguma relação entre o período do ano e a frequência de ocorrências?\n"
      ]
    },
    {
      "cell_type": "markdown",
      "metadata": {
        "id": "2MV12IJqEUUq",
        "colab_type": "text"
      },
      "source": [
        "O resumo estatístico contendo a média (mean), desvio padrão (std), mínimos (min) e máximos (max) observados, 1º e 3º quartil (25% e 75%, respectivamente) e a mediana (50%) será apresentado a seguir."
      ]
    },
    {
      "cell_type": "code",
      "metadata": {
        "id": "fJeZxUI_Jzde",
        "colab_type": "code",
        "colab": {
          "base_uri": "https://localhost:8080/",
          "height": 297
        },
        "outputId": "1d074d98-28e0-43bf-caf6-a3831037c534"
      },
      "source": [
        "# mostrar resumo estatístico do conjunto de dados\n",
        "df.describe()"
      ],
      "execution_count": 46,
      "outputs": [
        {
          "output_type": "execute_result",
          "data": {
            "text/html": [
              "<div>\n",
              "<style scoped>\n",
              "    .dataframe tbody tr th:only-of-type {\n",
              "        vertical-align: middle;\n",
              "    }\n",
              "\n",
              "    .dataframe tbody tr th {\n",
              "        vertical-align: top;\n",
              "    }\n",
              "\n",
              "    .dataframe thead th {\n",
              "        text-align: right;\n",
              "    }\n",
              "</style>\n",
              "<table border=\"1\" class=\"dataframe\">\n",
              "  <thead>\n",
              "    <tr style=\"text-align: right;\">\n",
              "      <th></th>\n",
              "      <th>ameaca</th>\n",
              "      <th>lesao</th>\n",
              "      <th>estupro</th>\n",
              "      <th>feminicidio</th>\n",
              "      <th>feminicidio_tentado</th>\n",
              "      <th>total</th>\n",
              "    </tr>\n",
              "  </thead>\n",
              "  <tbody>\n",
              "    <tr>\n",
              "      <th>count</th>\n",
              "      <td>96.000000</td>\n",
              "      <td>96.000000</td>\n",
              "      <td>96.000000</td>\n",
              "      <td>96.00000</td>\n",
              "      <td>96.000000</td>\n",
              "      <td>96.000000</td>\n",
              "    </tr>\n",
              "    <tr>\n",
              "      <th>mean</th>\n",
              "      <td>3427.250000</td>\n",
              "      <td>1997.562500</td>\n",
              "      <td>129.604167</td>\n",
              "      <td>7.90625</td>\n",
              "      <td>22.135417</td>\n",
              "      <td>5584.458333</td>\n",
              "    </tr>\n",
              "    <tr>\n",
              "      <th>std</th>\n",
              "      <td>442.620284</td>\n",
              "      <td>352.058542</td>\n",
              "      <td>24.314379</td>\n",
              "      <td>3.22842</td>\n",
              "      <td>10.868225</td>\n",
              "      <td>774.012334</td>\n",
              "    </tr>\n",
              "    <tr>\n",
              "      <th>min</th>\n",
              "      <td>2640.000000</td>\n",
              "      <td>1364.000000</td>\n",
              "      <td>83.000000</td>\n",
              "      <td>1.00000</td>\n",
              "      <td>0.000000</td>\n",
              "      <td>4224.000000</td>\n",
              "    </tr>\n",
              "    <tr>\n",
              "      <th>25%</th>\n",
              "      <td>3085.000000</td>\n",
              "      <td>1724.750000</td>\n",
              "      <td>109.750000</td>\n",
              "      <td>6.00000</td>\n",
              "      <td>17.000000</td>\n",
              "      <td>5021.250000</td>\n",
              "    </tr>\n",
              "    <tr>\n",
              "      <th>50%</th>\n",
              "      <td>3316.000000</td>\n",
              "      <td>1967.000000</td>\n",
              "      <td>126.500000</td>\n",
              "      <td>8.00000</td>\n",
              "      <td>23.000000</td>\n",
              "      <td>5477.000000</td>\n",
              "    </tr>\n",
              "    <tr>\n",
              "      <th>75%</th>\n",
              "      <td>3766.750000</td>\n",
              "      <td>2265.000000</td>\n",
              "      <td>143.500000</td>\n",
              "      <td>10.00000</td>\n",
              "      <td>29.250000</td>\n",
              "      <td>6124.750000</td>\n",
              "    </tr>\n",
              "    <tr>\n",
              "      <th>max</th>\n",
              "      <td>4537.000000</td>\n",
              "      <td>2975.000000</td>\n",
              "      <td>206.000000</td>\n",
              "      <td>16.00000</td>\n",
              "      <td>44.000000</td>\n",
              "      <td>7397.000000</td>\n",
              "    </tr>\n",
              "  </tbody>\n",
              "</table>\n",
              "</div>"
            ],
            "text/plain": [
              "            ameaca        lesao  ...  feminicidio_tentado        total\n",
              "count    96.000000    96.000000  ...            96.000000    96.000000\n",
              "mean   3427.250000  1997.562500  ...            22.135417  5584.458333\n",
              "std     442.620284   352.058542  ...            10.868225   774.012334\n",
              "min    2640.000000  1364.000000  ...             0.000000  4224.000000\n",
              "25%    3085.000000  1724.750000  ...            17.000000  5021.250000\n",
              "50%    3316.000000  1967.000000  ...            23.000000  5477.000000\n",
              "75%    3766.750000  2265.000000  ...            29.250000  6124.750000\n",
              "max    4537.000000  2975.000000  ...            44.000000  7397.000000\n",
              "\n",
              "[8 rows x 6 columns]"
            ]
          },
          "metadata": {
            "tags": []
          },
          "execution_count": 46
        }
      ]
    },
    {
      "cell_type": "markdown",
      "metadata": {
        "id": "TwBMtdE1FHW0",
        "colab_type": "text"
      },
      "source": [
        "Para responder às duas primeiras perguntas, será calculado o percentual de representação de cada tipo de variável."
      ]
    },
    {
      "cell_type": "code",
      "metadata": {
        "id": "Evh9YKW-Oxsz",
        "colab_type": "code",
        "colab": {
          "base_uri": "https://localhost:8080/",
          "height": 187
        },
        "outputId": "9321bbdf-9651-4fc4-aede-f033fc362a23"
      },
      "source": [
        "# verificar o número total de ocorrências\n",
        "print(\"Número total de ocorrências entre 2012 e 2019:\", int(df.total.sum()))\n",
        "print('')\n",
        "\n",
        "# mostrar percentual total de violência contra a mulher entre 2012 e 2019\n",
        "print(\"Percentual correspondente de cada tipo de ocorrência:\")\n",
        "((df.sum()/df.total.sum())*100).round(2).sort_values(ascending=False)"
      ],
      "execution_count": 55,
      "outputs": [
        {
          "output_type": "stream",
          "text": [
            "Número total de ocorrências entre 2012 e 2019: 536108\n",
            "\n",
            "Percentual correspondente de cada tipo de ocorrência:\n"
          ],
          "name": "stdout"
        },
        {
          "output_type": "execute_result",
          "data": {
            "text/plain": [
              "total                  100.00\n",
              "ameaca                  61.37\n",
              "lesao                   35.77\n",
              "estupro                  2.32\n",
              "feminicidio_tentado      0.40\n",
              "feminicidio              0.14\n",
              "dtype: float64"
            ]
          },
          "metadata": {
            "tags": []
          },
          "execution_count": 55
        }
      ]
    },
    {
      "cell_type": "markdown",
      "metadata": {
        "id": "N3yjtb_FFbDA",
        "colab_type": "text"
      },
      "source": [
        "Como é possível observar, ao longos destes 8 anos o que mais foi reportado foram ameaças (61,37%), seguido por lesão corporal (35,77%), estupro (2,32%), tentativa de feminicídio (0,40%) e, por fim, feminicídio (0,14%).\n",
        "\n",
        "Buscando os dados do resumo estatístico, percebe-se que o menor número de feminicídios executados foi de **1 caso** em um mês e o maior foram **16 casos** em um mesmo mês. Para responder à terceira questão levantada, verifica-se quando estas ocorrências foram efetuadas."
      ]
    },
    {
      "cell_type": "code",
      "metadata": {
        "id": "j9S1obYBOKNj",
        "colab_type": "code",
        "colab": {
          "base_uri": "https://localhost:8080/",
          "height": 80
        },
        "outputId": "b6b626b6-fa42-4065-e36a-6301106520c8"
      },
      "source": [
        "# mostrar período de menor número de feminicídios\n",
        "df[df[\"feminicidio\"] == 1]"
      ],
      "execution_count": 58,
      "outputs": [
        {
          "output_type": "execute_result",
          "data": {
            "text/html": [
              "<div>\n",
              "<style scoped>\n",
              "    .dataframe tbody tr th:only-of-type {\n",
              "        vertical-align: middle;\n",
              "    }\n",
              "\n",
              "    .dataframe tbody tr th {\n",
              "        vertical-align: top;\n",
              "    }\n",
              "\n",
              "    .dataframe thead th {\n",
              "        text-align: right;\n",
              "    }\n",
              "</style>\n",
              "<table border=\"1\" class=\"dataframe\">\n",
              "  <thead>\n",
              "    <tr style=\"text-align: right;\">\n",
              "      <th></th>\n",
              "      <th>data</th>\n",
              "      <th>ameaca</th>\n",
              "      <th>lesao</th>\n",
              "      <th>estupro</th>\n",
              "      <th>feminicidio</th>\n",
              "      <th>feminicidio_tentado</th>\n",
              "      <th>total</th>\n",
              "    </tr>\n",
              "  </thead>\n",
              "  <tbody>\n",
              "    <tr>\n",
              "      <th>85</th>\n",
              "      <td>2019-02-01</td>\n",
              "      <td>3214</td>\n",
              "      <td>1820</td>\n",
              "      <td>132</td>\n",
              "      <td>1</td>\n",
              "      <td>23</td>\n",
              "      <td>5190</td>\n",
              "    </tr>\n",
              "  </tbody>\n",
              "</table>\n",
              "</div>"
            ],
            "text/plain": [
              "         data  ameaca  lesao  estupro  feminicidio  feminicidio_tentado  total\n",
              "85 2019-02-01    3214   1820      132            1                   23   5190"
            ]
          },
          "metadata": {
            "tags": []
          },
          "execution_count": 58
        }
      ]
    },
    {
      "cell_type": "code",
      "metadata": {
        "id": "CUGxbeD0NbZ4",
        "colab_type": "code",
        "colab": {
          "base_uri": "https://localhost:8080/",
          "height": 111
        },
        "outputId": "3a155b70-d695-49fd-ac9b-0bc3725d2017"
      },
      "source": [
        "# mostrar período de maior número de feminicídios\n",
        "df[df[\"feminicidio\"] == 16]"
      ],
      "execution_count": 59,
      "outputs": [
        {
          "output_type": "execute_result",
          "data": {
            "text/html": [
              "<div>\n",
              "<style scoped>\n",
              "    .dataframe tbody tr th:only-of-type {\n",
              "        vertical-align: middle;\n",
              "    }\n",
              "\n",
              "    .dataframe tbody tr th {\n",
              "        vertical-align: top;\n",
              "    }\n",
              "\n",
              "    .dataframe thead th {\n",
              "        text-align: right;\n",
              "    }\n",
              "</style>\n",
              "<table border=\"1\" class=\"dataframe\">\n",
              "  <thead>\n",
              "    <tr style=\"text-align: right;\">\n",
              "      <th></th>\n",
              "      <th>data</th>\n",
              "      <th>ameaca</th>\n",
              "      <th>lesao</th>\n",
              "      <th>estupro</th>\n",
              "      <th>feminicidio</th>\n",
              "      <th>feminicidio_tentado</th>\n",
              "      <th>total</th>\n",
              "    </tr>\n",
              "  </thead>\n",
              "  <tbody>\n",
              "    <tr>\n",
              "      <th>77</th>\n",
              "      <td>2018-06-01</td>\n",
              "      <td>2640</td>\n",
              "      <td>1441</td>\n",
              "      <td>110</td>\n",
              "      <td>16</td>\n",
              "      <td>17</td>\n",
              "      <td>4224</td>\n",
              "    </tr>\n",
              "    <tr>\n",
              "      <th>83</th>\n",
              "      <td>2018-12-01</td>\n",
              "      <td>3110</td>\n",
              "      <td>2222</td>\n",
              "      <td>117</td>\n",
              "      <td>16</td>\n",
              "      <td>22</td>\n",
              "      <td>5487</td>\n",
              "    </tr>\n",
              "  </tbody>\n",
              "</table>\n",
              "</div>"
            ],
            "text/plain": [
              "         data  ameaca  lesao  estupro  feminicidio  feminicidio_tentado  total\n",
              "77 2018-06-01    2640   1441      110           16                   17   4224\n",
              "83 2018-12-01    3110   2222      117           16                   22   5487"
            ]
          },
          "metadata": {
            "tags": []
          },
          "execution_count": 59
        }
      ]
    },
    {
      "cell_type": "markdown",
      "metadata": {
        "id": "tvJUAM70HXAU",
        "colab_type": "text"
      },
      "source": [
        "O mês com menor incidência de feminicídios foi, portanto, fevereiro de 2019. O maior número de incidências, por sua vez, ocorreu por duas vezes no mesmo ano, em 2018. Junho e dezembro deste ano foram os meses onde mais mulheres foram assassinadas no âmbito íntimo e/ou familiar.\n",
        "\n",
        "Apesar deste alto resultado em 2018, a violência contra a mulher, de modo geral, tem ou não aumentado desde 2012?"
      ]
    },
    {
      "cell_type": "markdown",
      "metadata": {
        "id": "g1lHof_qL8X9",
        "colab_type": "text"
      },
      "source": [
        "### Visualização dos Dados\n",
        "\n",
        "Para responder à pergunta levantada na seção anterior, será necessário analisar os dados ano a ano. "
      ]
    },
    {
      "cell_type": "code",
      "metadata": {
        "id": "na43BF33qI2Y",
        "colab_type": "code",
        "colab": {
          "base_uri": "https://localhost:8080/",
          "height": 348
        },
        "outputId": "d5f29abd-b544-417f-f927-89125556892b"
      },
      "source": [
        "# plotar o gráfico para visualização\n",
        "plt.figure(figsize=(8,5))\n",
        "\n",
        "ax = (df['total'].groupby(df.data.dt.to_period(\"Y\")).agg('sum').plot(kind='bar', rot=0, width=0.6))\n",
        "ax.set_yticks(np.arange(0, 90000, 10000))\n",
        "\n",
        "for p in ax.patches:\n",
        "    ax.annotate('{:.0f}'.format(p.get_height()), (p.get_x()+0.04, p.get_height()+0.1))\n",
        "\n",
        "plt.rc('font', size=9)\n",
        "plt.rc('axes', titlesize=12)\n",
        "plt.title('Total de Ocorrências por Ano')\n",
        "plt.xlabel('Ano')\n",
        "plt.ylabel('Nº de Ocorrências')\n",
        "plt.show()"
      ],
      "execution_count": 143,
      "outputs": [
        {
          "output_type": "display_data",
          "data": {
            "image/png": "[encoded data removed]",
            "text/plain": [
              "<Figure size 576x360 with 1 Axes>"
            ]
          },
          "metadata": {
            "tags": [],
            "needs_background": "light"
          }
        }
      ]
    },
    {
      "cell_type": "markdown",
      "metadata": {
        "id": "kMs_VwLn1whg",
        "colab_type": "text"
      },
      "source": [
        "O gráfico obtido demonstra que as ocorrências vem gradualmente diminuindo ao longo dos anos, com exceção de 2014, que viu um certo aumento em relação ao ano anterior. \n",
        "\n",
        "Para determinar qual foi a variação entre 2012 e 2019 se procede com o cálculo das diferenças percentuais. Como pode se observar abaixo, este valor ficou em -2,45%."
      ]
    },
    {
      "cell_type": "code",
      "metadata": {
        "id": "dTsH6Vhk0Zvu",
        "colab_type": "code",
        "colab": {
          "base_uri": "https://localhost:8080/",
          "height": 34
        },
        "outputId": "1404d8b1-ad04-4679-8ac3-0c8e6a89df67"
      },
      "source": [
        "# verificar variação percentual entre 2012 e 2019\n",
        "ano_2012 = ((df['total'].groupby(df.data.dt.to_period(\"Y\")).agg('sum')/df.total.sum())*100).round(2)[0]\n",
        "ano_2019 = ((df['total'].groupby(df.data.dt.to_period(\"Y\")).agg('sum')/df.total.sum())*100).round(2)[7]\n",
        "print(\"Variação percentual da violência contra a mulher no RS entre 2012 e 2019: {:.2f}%\".format(ano_2019-ano_2012))"
      ],
      "execution_count": 85,
      "outputs": [
        {
          "output_type": "stream",
          "text": [
            "Variação percentual da violência contra a mulher no RS entre 2012 e 2019: -2.45%\n"
          ],
          "name": "stdout"
        }
      ]
    },
    {
      "cell_type": "markdown",
      "metadata": {
        "id": "Nl4jSQwau6FW",
        "colab_type": "text"
      },
      "source": [
        "É correto, no entanto, afirmar que a violência contra a mulher vem realmente diminuindo?\n",
        "\n",
        "Para garantir que este dado se comprova, será analisado a seguir caso a caso."
      ]
    },
    {
      "cell_type": "code",
      "metadata": {
        "id": "VV7eU9pBtoX1",
        "colab_type": "code",
        "colab": {
          "base_uri": "https://localhost:8080/",
          "height": 348
        },
        "outputId": "e2fdf71a-54bd-4a1d-ba14-a8b612306c72"
      },
      "source": [
        "# plotar o gráfico da variável ameaça\n",
        "plt.figure(figsize=(8,5))\n",
        "\n",
        "ax = (df['ameaca'].groupby(df.data.dt.to_period(\"Y\")).agg('sum').plot(kind='bar', rot=0, width=0.6))\n",
        "ax.set_yticks(np.arange(0, 60000, 10000))\n",
        "\n",
        "for p in ax.patches:\n",
        "    ax.annotate('{:.0f}'.format(p.get_height()), (p.get_x()+0.04, p.get_height()+0.1))\n",
        "\n",
        "plt.rc('font', size=9)\n",
        "plt.rc('axes', titlesize=12)\n",
        "plt.title('Total de Ocorrências de Ameaça por Ano')\n",
        "plt.xlabel('Ano')\n",
        "plt.ylabel('Nº de Ocorrências')\n",
        "plt.show()"
      ],
      "execution_count": 87,
      "outputs": [
        {
          "output_type": "display_data",
          "data": {
            "image/png": "[encoded data removed]",
            "text/plain": [
              "<Figure size 576x360 with 1 Axes>"
            ]
          },
          "metadata": {
            "tags": [],
            "needs_background": "light"
          }
        }
      ]
    },
    {
      "cell_type": "code",
      "metadata": {
        "id": "ynvi_Vi2vvz0",
        "colab_type": "code",
        "colab": {
          "base_uri": "https://localhost:8080/",
          "height": 348
        },
        "outputId": "84d8f998-8592-4891-ef38-1c818feafdfb"
      },
      "source": [
        "# plotar o gráfico da variável lesao\n",
        "plt.figure(figsize=(8,5))\n",
        "\n",
        "ax = (df['lesao'].groupby(df.data.dt.to_period(\"Y\")).agg('sum').plot(kind='bar', rot=0, width=0.6))\n",
        "ax.set_yticks(np.arange(0, 40000, 5000))\n",
        "\n",
        "for p in ax.patches:\n",
        "    ax.annotate('{:.0f}'.format(p.get_height()), (p.get_x()+0.04, p.get_height()+0.1))\n",
        "\n",
        "plt.rc('font', size=9)\n",
        "plt.rc('axes', titlesize=12)\n",
        "plt.title('Total de Ocorrências de Lesão Corporal por Ano')\n",
        "plt.xlabel('Ano')\n",
        "plt.ylabel('Nº de Ocorrências')\n",
        "plt.show()"
      ],
      "execution_count": 88,
      "outputs": [
        {
          "output_type": "display_data",
          "data": {
            "image/png": "[encoded data removed]",
            "text/plain": [
              "<Figure size 576x360 with 1 Axes>"
            ]
          },
          "metadata": {
            "tags": [],
            "needs_background": "light"
          }
        }
      ]
    },
    {
      "cell_type": "code",
      "metadata": {
        "id": "fYXIZN-pv8tE",
        "colab_type": "code",
        "colab": {
          "base_uri": "https://localhost:8080/",
          "height": 348
        },
        "outputId": "731b4037-5d3d-43fd-9a56-aa970f168cfb"
      },
      "source": [
        "# plotar o gráfico da variável estupro\n",
        "plt.figure(figsize=(8,5))\n",
        "\n",
        "ax = (df['estupro'].groupby(df.data.dt.to_period(\"Y\")).agg('sum').plot(kind='bar', rot=0, width=0.6))\n",
        "ax.set_yticks(np.arange(0, 2500, 500))\n",
        "\n",
        "for p in ax.patches:\n",
        "    ax.annotate('{:.0f}'.format(p.get_height()), (p.get_x()+0.06, p.get_height()+0.1))\n",
        "\n",
        "plt.rc('font', size=9)\n",
        "plt.rc('axes', titlesize=12)\n",
        "plt.title('Total de Ocorrências de Estupros por Ano')\n",
        "plt.xlabel('Ano')\n",
        "plt.ylabel('Nº de Ocorrências')\n",
        "plt.show()"
      ],
      "execution_count": 89,
      "outputs": [
        {
          "output_type": "display_data",
          "data": {
            "image/png": "[encoded data removed]",
            "text/plain": [
              "<Figure size 576x360 with 1 Axes>"
            ]
          },
          "metadata": {
            "tags": [],
            "needs_background": "light"
          }
        }
      ]
    },
    {
      "cell_type": "code",
      "metadata": {
        "id": "YbeM8B3LwM0O",
        "colab_type": "code",
        "colab": {
          "base_uri": "https://localhost:8080/",
          "height": 348
        },
        "outputId": "7e3c1ac6-4aad-49b3-81ea-07cc5345d698"
      },
      "source": [
        "# plotar o gráfico da variável feminicidio_tentado\n",
        "plt.figure(figsize=(8,5))\n",
        "\n",
        "ax = (df['feminicidio_tentado'].groupby(df.data.dt.to_period(\"Y\")).agg('sum').plot(kind='bar', rot=0, width=0.6))\n",
        "ax.set_yticks(np.arange(0, 450, 50))\n",
        "\n",
        "for p in ax.patches:\n",
        "    ax.annotate('{:.0f}'.format(p.get_height()), (p.get_x()+0.14, p.get_height()+0.1))\n",
        "\n",
        "plt.rc('font', size=9)\n",
        "plt.rc('axes', titlesize=12)\n",
        "plt.title('Total de Ocorrências de Tentativa de Feminicídio por Ano')\n",
        "plt.xlabel('Ano')\n",
        "plt.ylabel('Nº de Ocorrências')\n",
        "plt.show()"
      ],
      "execution_count": 91,
      "outputs": [
        {
          "output_type": "display_data",
          "data": {
            "image/png": "[encoded data removed]",
            "text/plain": [
              "<Figure size 576x360 with 1 Axes>"
            ]
          },
          "metadata": {
            "tags": [],
            "needs_background": "light"
          }
        }
      ]
    },
    {
      "cell_type": "code",
      "metadata": {
        "id": "S_TKWk0AwhS0",
        "colab_type": "code",
        "colab": {
          "base_uri": "https://localhost:8080/",
          "height": 348
        },
        "outputId": "67c8a7a8-7d40-4384-c94e-9316844c29c5"
      },
      "source": [
        "# plotar o gráfico da variável feminicidio\n",
        "plt.figure(figsize=(8,5))\n",
        "\n",
        "ax = (df['feminicidio'].groupby(df.data.dt.to_period(\"Y\")).agg('sum').plot(kind='bar', rot=0, width=0.6))\n",
        "ax.set_yticks(np.arange(0, 150, 25))\n",
        "\n",
        "for p in ax.patches:\n",
        "    ax.annotate('{:.0f}'.format(p.get_height()), (p.get_x()+0.2, p.get_height()+0.1))\n",
        "\n",
        "plt.rc('font', size=9)\n",
        "plt.rc('axes', titlesize=12)\n",
        "plt.title('Total de Ocorrências de Feminicídio por Ano')\n",
        "plt.xlabel('Ano')\n",
        "plt.ylabel('Nº de Ocorrências')\n",
        "plt.show()"
      ],
      "execution_count": 92,
      "outputs": [
        {
          "output_type": "display_data",
          "data": {
            "image/png": "[encoded data removed]",
            "text/plain": [
              "<Figure size 576x360 with 1 Axes>"
            ]
          },
          "metadata": {
            "tags": [],
            "needs_background": "light"
          }
        }
      ]
    },
    {
      "cell_type": "markdown",
      "metadata": {
        "id": "e39C6-_1vvT5",
        "colab_type": "text"
      },
      "source": [
        "Como é possível observar, num primeiro momento, ao agrupar todas as ocorrências, a conclusão a que se chegava era de que a violência estaria diminuindo, no entanto, após analisar caso a caso percebe-se que esta não é a realidade.\n",
        "\n",
        "Existe sim uma diminuição nos números de ameaças e lesão corporal que, inclusive, são os casos que mais contabilizam notificações, porém as ocorrências mais graves como estupro e tentativa de feminicídio continuam crescendo. Os casos de feminicídio, por sua vez, variaram ao longo dos últimos 8 anos e não se pode afirmar que estão diminuindo, tanto que o ano de 2018 foi o responsável pelos maiores índices."
      ]
    },
    {
      "cell_type": "markdown",
      "metadata": {
        "id": "Wb0tMeb2BaK8",
        "colab_type": "text"
      },
      "source": [
        "A última questão levantada era se existia alguma relação entre o período do ano e a violência contra a mulher. Para determinar se isto se comprova, será necessário agrupar todas as ocorrências por mês e avaliar."
      ]
    },
    {
      "cell_type": "code",
      "metadata": {
        "id": "uKSpW4UrBuML",
        "colab_type": "code",
        "colab": {
          "base_uri": "https://localhost:8080/",
          "height": 348
        },
        "outputId": "994a0532-facf-4fb5-8957-fc7ab7c4b814"
      },
      "source": [
        "# plotar o gráfico de frequência de ocorrências por mês\n",
        "plt.figure(figsize=(8,5))\n",
        "\n",
        "ax = (((df['total'].groupby(df.data.dt.month).agg('sum')/df['total'].sum())*100).round(2).sort_values(ascending=False).plot(kind='bar', rot=0, width=0.6))\n",
        "ax.set_yticks(np.arange(0, 15, 2.5))\n",
        "\n",
        "for p in ax.patches:\n",
        "    ax.annotate('{:.2f}%'.format(p.get_height()), (p.get_x()+-0.08, p.get_height()+0.1))\n",
        "\n",
        "plt.rc('font', size=9)\n",
        "plt.rc('axes', titlesize=12)\n",
        "plt.title('Frequência de Ocorrências por Mês')\n",
        "plt.xlabel('Mês')\n",
        "plt.ylabel('% de Ocorrências')\n",
        "plt.show()"
      ],
      "execution_count": 93,
      "outputs": [
        {
          "output_type": "display_data",
          "data": {
            "image/png": "[encoded data removed]",
            "text/plain": [
              "<Figure size 576x360 with 1 Axes>"
            ]
          },
          "metadata": {
            "tags": [],
            "needs_background": "light"
          }
        }
      ]
    },
    {
      "cell_type": "markdown",
      "metadata": {
        "id": "_R9aGuvBCIPC",
        "colab_type": "text"
      },
      "source": [
        "Através do gráfico, nota-se que parece existir uma tendência um pouco maior de ocorrências durante o verão (dezembro a março) e uma tendência um pouco menor no inverno (junho a setembro)."
      ]
    },
    {
      "cell_type": "markdown",
      "metadata": {
        "id": "M7wApkFKLa78",
        "colab_type": "text"
      },
      "source": [
        "## Informações Estatísticas da Violência Contra a Mulher no RS por Município em 2019\n",
        "\n",
        "Agora que já foram avaliados os dados estatísticos consolidados da violência contra a mulher no RS, é interessante abordar quais são os principais municípios responsáveis pelos mais altos índices de ocorrências.\n",
        "\n",
        "As bases de dados desta etapa se comportam da mesma forma, ou seja, são relações de municípios e seus respectivos somatórios de ocorrências por mês durante o ano de 2019. A única diferença entre eles é a quantidade de municípios que fazem parte do *dataset*.\n",
        "\n",
        "Desta forma, serão realizadas as mesmas ações para cada *dataset* diferente, sendo elas:\n",
        "- Avaliar as cinco primeiras entradas do *dataset*;\n",
        "- Verificar se existem valores ausentes;\n",
        "- Incluir uma coluna de soma de ocorrências ao longo do ano por município;\n",
        "- Verificar o número de municípios presentes em cada *dataset*;\n",
        "- Listar os 10 municípios com os maiores números de ocorrências.\n",
        "\n",
        "O objetivo desta etapa é responder à seguinte pergunta:\n",
        "- Quais os municípios onde mais são reportados casos de violência contra a mulher no RS de acordo com o tipo de ocorrência?"
      ]
    },
    {
      "cell_type": "markdown",
      "metadata": {
        "id": "7n3d-wkuEpe5",
        "colab_type": "text"
      },
      "source": [
        "### Ameaça"
      ]
    },
    {
      "cell_type": "code",
      "metadata": {
        "id": "8bYp26Fx2opt",
        "colab_type": "code",
        "colab": {
          "base_uri": "https://localhost:8080/",
          "height": 235
        },
        "outputId": "89965ded-691b-47f0-d7b1-589ef8989b49"
      },
      "source": [
        "# exibir as 5 primeiras entradas de Ameaça\n",
        "df_ameaca.head()"
      ],
      "execution_count": 97,
      "outputs": [
        {
          "output_type": "execute_result",
          "data": {
            "text/html": [
              "<div>\n",
              "<style scoped>\n",
              "    .dataframe tbody tr th:only-of-type {\n",
              "        vertical-align: middle;\n",
              "    }\n",
              "\n",
              "    .dataframe tbody tr th {\n",
              "        vertical-align: top;\n",
              "    }\n",
              "\n",
              "    .dataframe thead th {\n",
              "        text-align: right;\n",
              "    }\n",
              "</style>\n",
              "<table border=\"1\" class=\"dataframe\">\n",
              "  <thead>\n",
              "    <tr style=\"text-align: right;\">\n",
              "      <th></th>\n",
              "      <th>jan</th>\n",
              "      <th>fev</th>\n",
              "      <th>mar</th>\n",
              "      <th>abr</th>\n",
              "      <th>mai</th>\n",
              "      <th>jun</th>\n",
              "      <th>jul</th>\n",
              "      <th>ago</th>\n",
              "      <th>set</th>\n",
              "      <th>out</th>\n",
              "      <th>nov</th>\n",
              "      <th>dez</th>\n",
              "    </tr>\n",
              "    <tr>\n",
              "      <th>CIDADES</th>\n",
              "      <th></th>\n",
              "      <th></th>\n",
              "      <th></th>\n",
              "      <th></th>\n",
              "      <th></th>\n",
              "      <th></th>\n",
              "      <th></th>\n",
              "      <th></th>\n",
              "      <th></th>\n",
              "      <th></th>\n",
              "      <th></th>\n",
              "      <th></th>\n",
              "    </tr>\n",
              "  </thead>\n",
              "  <tbody>\n",
              "    <tr>\n",
              "      <th>ACEGUA</th>\n",
              "      <td>0</td>\n",
              "      <td>0</td>\n",
              "      <td>0</td>\n",
              "      <td>1</td>\n",
              "      <td>1</td>\n",
              "      <td>0</td>\n",
              "      <td>0</td>\n",
              "      <td>0</td>\n",
              "      <td>0</td>\n",
              "      <td>1</td>\n",
              "      <td>1</td>\n",
              "      <td>0</td>\n",
              "    </tr>\n",
              "    <tr>\n",
              "      <th>AGUA SANTA</th>\n",
              "      <td>0</td>\n",
              "      <td>1</td>\n",
              "      <td>0</td>\n",
              "      <td>0</td>\n",
              "      <td>0</td>\n",
              "      <td>1</td>\n",
              "      <td>0</td>\n",
              "      <td>0</td>\n",
              "      <td>0</td>\n",
              "      <td>1</td>\n",
              "      <td>0</td>\n",
              "      <td>0</td>\n",
              "    </tr>\n",
              "    <tr>\n",
              "      <th>AGUDO</th>\n",
              "      <td>4</td>\n",
              "      <td>5</td>\n",
              "      <td>3</td>\n",
              "      <td>8</td>\n",
              "      <td>3</td>\n",
              "      <td>7</td>\n",
              "      <td>6</td>\n",
              "      <td>5</td>\n",
              "      <td>10</td>\n",
              "      <td>3</td>\n",
              "      <td>0</td>\n",
              "      <td>4</td>\n",
              "    </tr>\n",
              "    <tr>\n",
              "      <th>AJURICABA</th>\n",
              "      <td>1</td>\n",
              "      <td>2</td>\n",
              "      <td>2</td>\n",
              "      <td>3</td>\n",
              "      <td>4</td>\n",
              "      <td>3</td>\n",
              "      <td>0</td>\n",
              "      <td>1</td>\n",
              "      <td>0</td>\n",
              "      <td>1</td>\n",
              "      <td>1</td>\n",
              "      <td>1</td>\n",
              "    </tr>\n",
              "    <tr>\n",
              "      <th>ALECRIM</th>\n",
              "      <td>4</td>\n",
              "      <td>0</td>\n",
              "      <td>6</td>\n",
              "      <td>3</td>\n",
              "      <td>2</td>\n",
              "      <td>3</td>\n",
              "      <td>0</td>\n",
              "      <td>2</td>\n",
              "      <td>2</td>\n",
              "      <td>0</td>\n",
              "      <td>3</td>\n",
              "      <td>4</td>\n",
              "    </tr>\n",
              "  </tbody>\n",
              "</table>\n",
              "</div>"
            ],
            "text/plain": [
              "            jan  fev  mar  abr  mai  jun  jul  ago  set  out  nov  dez\n",
              "CIDADES                                                               \n",
              "ACEGUA        0    0    0    1    1    0    0    0    0    1    1    0\n",
              "AGUA SANTA    0    1    0    0    0    1    0    0    0    1    0    0\n",
              "AGUDO         4    5    3    8    3    7    6    5   10    3    0    4\n",
              "AJURICABA     1    2    2    3    4    3    0    1    0    1    1    1\n",
              "ALECRIM       4    0    6    3    2    3    0    2    2    0    3    4"
            ]
          },
          "metadata": {
            "tags": []
          },
          "execution_count": 97
        }
      ]
    },
    {
      "cell_type": "code",
      "metadata": {
        "id": "fP6RQA0sPVT_",
        "colab_type": "code",
        "colab": {
          "base_uri": "https://localhost:8080/",
          "height": 238
        },
        "outputId": "24f8ddbd-d3e6-47d0-e535-f29c720d0806"
      },
      "source": [
        "# verificar valores ausentes\n",
        "df_ameaca.isnull().sum()"
      ],
      "execution_count": 96,
      "outputs": [
        {
          "output_type": "execute_result",
          "data": {
            "text/plain": [
              "jan    0\n",
              "fev    0\n",
              "mar    0\n",
              "abr    0\n",
              "mai    0\n",
              "jun    0\n",
              "jul    0\n",
              "ago    0\n",
              "set    0\n",
              "out    0\n",
              "nov    0\n",
              "dez    0\n",
              "dtype: int64"
            ]
          },
          "metadata": {
            "tags": []
          },
          "execution_count": 96
        }
      ]
    },
    {
      "cell_type": "code",
      "metadata": {
        "id": "kETmABFc2XNs",
        "colab_type": "code",
        "colab": {
          "base_uri": "https://localhost:8080/",
          "height": 173
        },
        "outputId": "a82cc5ef-fb52-4b04-9ad9-10484e179f53"
      },
      "source": [
        "# adicionar coluna de total de ocorrências por município\n",
        "df_ameaca['total'] = (df_ameaca['jan'] + df_ameaca['fev'] + df_ameaca['mar'] + df_ameaca['abr'] + df_ameaca['mai'] + df_ameaca['jun'] + \n",
        "                      df_ameaca['jul'] + df_ameaca['ago'] + df_ameaca['set'] + df_ameaca['out'] + df_ameaca['nov'] + df_ameaca['dez'])\n",
        "df_ameaca.head(3)"
      ],
      "execution_count": 99,
      "outputs": [
        {
          "output_type": "execute_result",
          "data": {
            "text/html": [
              "<div>\n",
              "<style scoped>\n",
              "    .dataframe tbody tr th:only-of-type {\n",
              "        vertical-align: middle;\n",
              "    }\n",
              "\n",
              "    .dataframe tbody tr th {\n",
              "        vertical-align: top;\n",
              "    }\n",
              "\n",
              "    .dataframe thead th {\n",
              "        text-align: right;\n",
              "    }\n",
              "</style>\n",
              "<table border=\"1\" class=\"dataframe\">\n",
              "  <thead>\n",
              "    <tr style=\"text-align: right;\">\n",
              "      <th></th>\n",
              "      <th>jan</th>\n",
              "      <th>fev</th>\n",
              "      <th>mar</th>\n",
              "      <th>abr</th>\n",
              "      <th>mai</th>\n",
              "      <th>jun</th>\n",
              "      <th>jul</th>\n",
              "      <th>ago</th>\n",
              "      <th>set</th>\n",
              "      <th>out</th>\n",
              "      <th>nov</th>\n",
              "      <th>dez</th>\n",
              "      <th>total</th>\n",
              "    </tr>\n",
              "    <tr>\n",
              "      <th>CIDADES</th>\n",
              "      <th></th>\n",
              "      <th></th>\n",
              "      <th></th>\n",
              "      <th></th>\n",
              "      <th></th>\n",
              "      <th></th>\n",
              "      <th></th>\n",
              "      <th></th>\n",
              "      <th></th>\n",
              "      <th></th>\n",
              "      <th></th>\n",
              "      <th></th>\n",
              "      <th></th>\n",
              "    </tr>\n",
              "  </thead>\n",
              "  <tbody>\n",
              "    <tr>\n",
              "      <th>ACEGUA</th>\n",
              "      <td>0</td>\n",
              "      <td>0</td>\n",
              "      <td>0</td>\n",
              "      <td>1</td>\n",
              "      <td>1</td>\n",
              "      <td>0</td>\n",
              "      <td>0</td>\n",
              "      <td>0</td>\n",
              "      <td>0</td>\n",
              "      <td>1</td>\n",
              "      <td>1</td>\n",
              "      <td>0</td>\n",
              "      <td>4</td>\n",
              "    </tr>\n",
              "    <tr>\n",
              "      <th>AGUA SANTA</th>\n",
              "      <td>0</td>\n",
              "      <td>1</td>\n",
              "      <td>0</td>\n",
              "      <td>0</td>\n",
              "      <td>0</td>\n",
              "      <td>1</td>\n",
              "      <td>0</td>\n",
              "      <td>0</td>\n",
              "      <td>0</td>\n",
              "      <td>1</td>\n",
              "      <td>0</td>\n",
              "      <td>0</td>\n",
              "      <td>3</td>\n",
              "    </tr>\n",
              "    <tr>\n",
              "      <th>AGUDO</th>\n",
              "      <td>4</td>\n",
              "      <td>5</td>\n",
              "      <td>3</td>\n",
              "      <td>8</td>\n",
              "      <td>3</td>\n",
              "      <td>7</td>\n",
              "      <td>6</td>\n",
              "      <td>5</td>\n",
              "      <td>10</td>\n",
              "      <td>3</td>\n",
              "      <td>0</td>\n",
              "      <td>4</td>\n",
              "      <td>58</td>\n",
              "    </tr>\n",
              "  </tbody>\n",
              "</table>\n",
              "</div>"
            ],
            "text/plain": [
              "            jan  fev  mar  abr  mai  jun  jul  ago  set  out  nov  dez  total\n",
              "CIDADES                                                                      \n",
              "ACEGUA        0    0    0    1    1    0    0    0    0    1    1    0      4\n",
              "AGUA SANTA    0    1    0    0    0    1    0    0    0    1    0    0      3\n",
              "AGUDO         4    5    3    8    3    7    6    5   10    3    0    4     58"
            ]
          },
          "metadata": {
            "tags": []
          },
          "execution_count": 99
        }
      ]
    },
    {
      "cell_type": "code",
      "metadata": {
        "id": "umnGmozg2jxn",
        "colab_type": "code",
        "colab": {
          "base_uri": "https://localhost:8080/",
          "height": 289
        },
        "outputId": "f34c221f-2df8-47a0-c51f-ff007f887def"
      },
      "source": [
        "# identificar número total de municípios e os 10 com maior percentual de ocorrências\n",
        "print(\"Número de municípios no dataset:\", df_ameaca.shape[0])\n",
        "print('')\n",
        "print(\"AMEAÇA\")\n",
        "print('')\n",
        "print(((df_ameaca.total/df_ameaca.total.sum())*100).sort_values(ascending=False)[:10].round(2))"
      ],
      "execution_count": 100,
      "outputs": [
        {
          "output_type": "stream",
          "text": [
            "Número de municípios no dataset: 498\n",
            "\n",
            "AMEAÇA\n",
            "\n",
            "CIDADES\n",
            "PORTO ALEGRE     10.92\n",
            "CANOAS            3.57\n",
            "CAXIAS DO SUL     3.41\n",
            "SANTA MARIA       3.10\n",
            "PASSO FUNDO       2.89\n",
            "VIAMAO            2.58\n",
            "PELOTAS           2.54\n",
            "ALVORADA          2.38\n",
            "GRAVATAI          2.32\n",
            "NOVO HAMBURGO     2.17\n",
            "Name: total, dtype: float64\n"
          ],
          "name": "stdout"
        }
      ]
    },
    {
      "cell_type": "markdown",
      "metadata": {
        "id": "qzas5uWtE4Rc",
        "colab_type": "text"
      },
      "source": [
        "### Lesão Coporal"
      ]
    },
    {
      "cell_type": "code",
      "metadata": {
        "id": "hI6tsr7a4zmt",
        "colab_type": "code",
        "colab": {
          "base_uri": "https://localhost:8080/",
          "height": 235
        },
        "outputId": "b3b6e41e-cd62-41db-e6d6-47c0f6244cd1"
      },
      "source": [
        "# exibir as 5 primeiras entradas de Lesão\n",
        "df_lesao.head()"
      ],
      "execution_count": 101,
      "outputs": [
        {
          "output_type": "execute_result",
          "data": {
            "text/html": [
              "<div>\n",
              "<style scoped>\n",
              "    .dataframe tbody tr th:only-of-type {\n",
              "        vertical-align: middle;\n",
              "    }\n",
              "\n",
              "    .dataframe tbody tr th {\n",
              "        vertical-align: top;\n",
              "    }\n",
              "\n",
              "    .dataframe thead th {\n",
              "        text-align: right;\n",
              "    }\n",
              "</style>\n",
              "<table border=\"1\" class=\"dataframe\">\n",
              "  <thead>\n",
              "    <tr style=\"text-align: right;\">\n",
              "      <th></th>\n",
              "      <th>jan</th>\n",
              "      <th>fev</th>\n",
              "      <th>mar</th>\n",
              "      <th>abr</th>\n",
              "      <th>mai</th>\n",
              "      <th>jun</th>\n",
              "      <th>jul</th>\n",
              "      <th>ago</th>\n",
              "      <th>set</th>\n",
              "      <th>out</th>\n",
              "      <th>nov</th>\n",
              "      <th>dez</th>\n",
              "    </tr>\n",
              "    <tr>\n",
              "      <th>CIDADES</th>\n",
              "      <th></th>\n",
              "      <th></th>\n",
              "      <th></th>\n",
              "      <th></th>\n",
              "      <th></th>\n",
              "      <th></th>\n",
              "      <th></th>\n",
              "      <th></th>\n",
              "      <th></th>\n",
              "      <th></th>\n",
              "      <th></th>\n",
              "      <th></th>\n",
              "    </tr>\n",
              "  </thead>\n",
              "  <tbody>\n",
              "    <tr>\n",
              "      <th>ACEGUA</th>\n",
              "      <td>0</td>\n",
              "      <td>0</td>\n",
              "      <td>0</td>\n",
              "      <td>1</td>\n",
              "      <td>0</td>\n",
              "      <td>2</td>\n",
              "      <td>1</td>\n",
              "      <td>1</td>\n",
              "      <td>0</td>\n",
              "      <td>1</td>\n",
              "      <td>0</td>\n",
              "      <td>0</td>\n",
              "    </tr>\n",
              "    <tr>\n",
              "      <th>AGUA SANTA</th>\n",
              "      <td>0</td>\n",
              "      <td>0</td>\n",
              "      <td>1</td>\n",
              "      <td>0</td>\n",
              "      <td>0</td>\n",
              "      <td>1</td>\n",
              "      <td>0</td>\n",
              "      <td>0</td>\n",
              "      <td>0</td>\n",
              "      <td>0</td>\n",
              "      <td>1</td>\n",
              "      <td>1</td>\n",
              "    </tr>\n",
              "    <tr>\n",
              "      <th>AGUDO</th>\n",
              "      <td>5</td>\n",
              "      <td>7</td>\n",
              "      <td>0</td>\n",
              "      <td>6</td>\n",
              "      <td>4</td>\n",
              "      <td>1</td>\n",
              "      <td>0</td>\n",
              "      <td>0</td>\n",
              "      <td>3</td>\n",
              "      <td>1</td>\n",
              "      <td>2</td>\n",
              "      <td>3</td>\n",
              "    </tr>\n",
              "    <tr>\n",
              "      <th>AJURICABA</th>\n",
              "      <td>1</td>\n",
              "      <td>0</td>\n",
              "      <td>2</td>\n",
              "      <td>1</td>\n",
              "      <td>0</td>\n",
              "      <td>1</td>\n",
              "      <td>2</td>\n",
              "      <td>1</td>\n",
              "      <td>1</td>\n",
              "      <td>2</td>\n",
              "      <td>4</td>\n",
              "      <td>0</td>\n",
              "    </tr>\n",
              "    <tr>\n",
              "      <th>ALECRIM</th>\n",
              "      <td>1</td>\n",
              "      <td>0</td>\n",
              "      <td>1</td>\n",
              "      <td>0</td>\n",
              "      <td>0</td>\n",
              "      <td>1</td>\n",
              "      <td>2</td>\n",
              "      <td>0</td>\n",
              "      <td>3</td>\n",
              "      <td>0</td>\n",
              "      <td>1</td>\n",
              "      <td>0</td>\n",
              "    </tr>\n",
              "  </tbody>\n",
              "</table>\n",
              "</div>"
            ],
            "text/plain": [
              "            jan  fev  mar  abr  mai  jun  jul  ago  set  out  nov  dez\n",
              "CIDADES                                                               \n",
              "ACEGUA        0    0    0    1    0    2    1    1    0    1    0    0\n",
              "AGUA SANTA    0    0    1    0    0    1    0    0    0    0    1    1\n",
              "AGUDO         5    7    0    6    4    1    0    0    3    1    2    3\n",
              "AJURICABA     1    0    2    1    0    1    2    1    1    2    4    0\n",
              "ALECRIM       1    0    1    0    0    1    2    0    3    0    1    0"
            ]
          },
          "metadata": {
            "tags": []
          },
          "execution_count": 101
        }
      ]
    },
    {
      "cell_type": "code",
      "metadata": {
        "id": "dMRsRbpHPx9n",
        "colab_type": "code",
        "colab": {
          "base_uri": "https://localhost:8080/",
          "height": 238
        },
        "outputId": "074b2d1a-eecf-4dfe-e284-6dfd3a679a90"
      },
      "source": [
        "# verificar valores ausentes\n",
        "df_lesao.isnull().sum()"
      ],
      "execution_count": 102,
      "outputs": [
        {
          "output_type": "execute_result",
          "data": {
            "text/plain": [
              "jan    0\n",
              "fev    0\n",
              "mar    0\n",
              "abr    0\n",
              "mai    0\n",
              "jun    0\n",
              "jul    0\n",
              "ago    0\n",
              "set    0\n",
              "out    0\n",
              "nov    0\n",
              "dez    0\n",
              "dtype: int64"
            ]
          },
          "metadata": {
            "tags": []
          },
          "execution_count": 102
        }
      ]
    },
    {
      "cell_type": "code",
      "metadata": {
        "id": "PdiXFkTS45MS",
        "colab_type": "code",
        "colab": {
          "base_uri": "https://localhost:8080/",
          "height": 173
        },
        "outputId": "d7638709-d78c-4229-cebb-04b61fce9f09"
      },
      "source": [
        "# adicionar coluna de total de ocorrências por município\n",
        "df_lesao['total'] = (df_lesao['jan'] + df_lesao['fev'] + df_lesao['mar'] + df_lesao['abr'] + df_lesao['mai'] + df_lesao['jun'] + \n",
        "                      df_lesao['jul'] + df_lesao['ago'] + df_lesao['set'] + df_lesao['out'] + df_lesao['nov'] + df_lesao['dez'])\n",
        "df_lesao.head(3)"
      ],
      "execution_count": 104,
      "outputs": [
        {
          "output_type": "execute_result",
          "data": {
            "text/html": [
              "<div>\n",
              "<style scoped>\n",
              "    .dataframe tbody tr th:only-of-type {\n",
              "        vertical-align: middle;\n",
              "    }\n",
              "\n",
              "    .dataframe tbody tr th {\n",
              "        vertical-align: top;\n",
              "    }\n",
              "\n",
              "    .dataframe thead th {\n",
              "        text-align: right;\n",
              "    }\n",
              "</style>\n",
              "<table border=\"1\" class=\"dataframe\">\n",
              "  <thead>\n",
              "    <tr style=\"text-align: right;\">\n",
              "      <th></th>\n",
              "      <th>jan</th>\n",
              "      <th>fev</th>\n",
              "      <th>mar</th>\n",
              "      <th>abr</th>\n",
              "      <th>mai</th>\n",
              "      <th>jun</th>\n",
              "      <th>jul</th>\n",
              "      <th>ago</th>\n",
              "      <th>set</th>\n",
              "      <th>out</th>\n",
              "      <th>nov</th>\n",
              "      <th>dez</th>\n",
              "      <th>total</th>\n",
              "    </tr>\n",
              "    <tr>\n",
              "      <th>CIDADES</th>\n",
              "      <th></th>\n",
              "      <th></th>\n",
              "      <th></th>\n",
              "      <th></th>\n",
              "      <th></th>\n",
              "      <th></th>\n",
              "      <th></th>\n",
              "      <th></th>\n",
              "      <th></th>\n",
              "      <th></th>\n",
              "      <th></th>\n",
              "      <th></th>\n",
              "      <th></th>\n",
              "    </tr>\n",
              "  </thead>\n",
              "  <tbody>\n",
              "    <tr>\n",
              "      <th>ACEGUA</th>\n",
              "      <td>0</td>\n",
              "      <td>0</td>\n",
              "      <td>0</td>\n",
              "      <td>1</td>\n",
              "      <td>0</td>\n",
              "      <td>2</td>\n",
              "      <td>1</td>\n",
              "      <td>1</td>\n",
              "      <td>0</td>\n",
              "      <td>1</td>\n",
              "      <td>0</td>\n",
              "      <td>0</td>\n",
              "      <td>6</td>\n",
              "    </tr>\n",
              "    <tr>\n",
              "      <th>AGUA SANTA</th>\n",
              "      <td>0</td>\n",
              "      <td>0</td>\n",
              "      <td>1</td>\n",
              "      <td>0</td>\n",
              "      <td>0</td>\n",
              "      <td>1</td>\n",
              "      <td>0</td>\n",
              "      <td>0</td>\n",
              "      <td>0</td>\n",
              "      <td>0</td>\n",
              "      <td>1</td>\n",
              "      <td>1</td>\n",
              "      <td>4</td>\n",
              "    </tr>\n",
              "    <tr>\n",
              "      <th>AGUDO</th>\n",
              "      <td>5</td>\n",
              "      <td>7</td>\n",
              "      <td>0</td>\n",
              "      <td>6</td>\n",
              "      <td>4</td>\n",
              "      <td>1</td>\n",
              "      <td>0</td>\n",
              "      <td>0</td>\n",
              "      <td>3</td>\n",
              "      <td>1</td>\n",
              "      <td>2</td>\n",
              "      <td>3</td>\n",
              "      <td>32</td>\n",
              "    </tr>\n",
              "  </tbody>\n",
              "</table>\n",
              "</div>"
            ],
            "text/plain": [
              "            jan  fev  mar  abr  mai  jun  jul  ago  set  out  nov  dez  total\n",
              "CIDADES                                                                      \n",
              "ACEGUA        0    0    0    1    0    2    1    1    0    1    0    0      6\n",
              "AGUA SANTA    0    0    1    0    0    1    0    0    0    0    1    1      4\n",
              "AGUDO         5    7    0    6    4    1    0    0    3    1    2    3     32"
            ]
          },
          "metadata": {
            "tags": []
          },
          "execution_count": 104
        }
      ]
    },
    {
      "cell_type": "code",
      "metadata": {
        "id": "u4ZydJq55L7M",
        "colab_type": "code",
        "colab": {
          "base_uri": "https://localhost:8080/",
          "height": 289
        },
        "outputId": "77db841a-09b6-4509-b281-f208f2ecd07f"
      },
      "source": [
        "# identificar número total de municípios e os 10 com maior percentual de ocorrências\n",
        "print(\"Número de municípios no dataset:\", df_lesao.shape[0])\n",
        "print('')\n",
        "print(\"LESÃO\")\n",
        "print('')\n",
        "print(((df_lesao.total/df_lesao.total.sum())*100).sort_values(ascending=False)[:10].round(2))"
      ],
      "execution_count": 105,
      "outputs": [
        {
          "output_type": "stream",
          "text": [
            "Número de municípios no dataset: 498\n",
            "\n",
            "LESÃO\n",
            "\n",
            "CIDADES\n",
            "PORTO ALEGRE     16.77\n",
            "CANOAS            3.60\n",
            "CAXIAS DO SUL     3.56\n",
            "SANTA MARIA       3.55\n",
            "PELOTAS           3.27\n",
            "PASSO FUNDO       2.66\n",
            "VIAMAO            2.53\n",
            "GRAVATAI          2.35\n",
            "RIO GRANDE        2.24\n",
            "SAO LEOPOLDO      2.21\n",
            "Name: total, dtype: float64\n"
          ],
          "name": "stdout"
        }
      ]
    },
    {
      "cell_type": "markdown",
      "metadata": {
        "id": "j1TOwTlkE9Hn",
        "colab_type": "text"
      },
      "source": [
        "### Estupro"
      ]
    },
    {
      "cell_type": "code",
      "metadata": {
        "id": "3FH8QppP5cH_",
        "colab_type": "code",
        "colab": {
          "base_uri": "https://localhost:8080/",
          "height": 235
        },
        "outputId": "b95af7d7-efb2-4f24-c07e-73e4f150acae"
      },
      "source": [
        "# exibir as 5 primeiras entradas de Estupro\n",
        "df_estupro.head()"
      ],
      "execution_count": 106,
      "outputs": [
        {
          "output_type": "execute_result",
          "data": {
            "text/html": [
              "<div>\n",
              "<style scoped>\n",
              "    .dataframe tbody tr th:only-of-type {\n",
              "        vertical-align: middle;\n",
              "    }\n",
              "\n",
              "    .dataframe tbody tr th {\n",
              "        vertical-align: top;\n",
              "    }\n",
              "\n",
              "    .dataframe thead th {\n",
              "        text-align: right;\n",
              "    }\n",
              "</style>\n",
              "<table border=\"1\" class=\"dataframe\">\n",
              "  <thead>\n",
              "    <tr style=\"text-align: right;\">\n",
              "      <th></th>\n",
              "      <th>jan</th>\n",
              "      <th>fev</th>\n",
              "      <th>mar</th>\n",
              "      <th>abr</th>\n",
              "      <th>mai</th>\n",
              "      <th>jun</th>\n",
              "      <th>jul</th>\n",
              "      <th>ago</th>\n",
              "      <th>set</th>\n",
              "      <th>out</th>\n",
              "      <th>nov</th>\n",
              "      <th>dez</th>\n",
              "    </tr>\n",
              "    <tr>\n",
              "      <th>CIDADES</th>\n",
              "      <th></th>\n",
              "      <th></th>\n",
              "      <th></th>\n",
              "      <th></th>\n",
              "      <th></th>\n",
              "      <th></th>\n",
              "      <th></th>\n",
              "      <th></th>\n",
              "      <th></th>\n",
              "      <th></th>\n",
              "      <th></th>\n",
              "      <th></th>\n",
              "    </tr>\n",
              "  </thead>\n",
              "  <tbody>\n",
              "    <tr>\n",
              "      <th>ACEGUA</th>\n",
              "      <td>0</td>\n",
              "      <td>0</td>\n",
              "      <td>0</td>\n",
              "      <td>0</td>\n",
              "      <td>0</td>\n",
              "      <td>0</td>\n",
              "      <td>0</td>\n",
              "      <td>0</td>\n",
              "      <td>0</td>\n",
              "      <td>0</td>\n",
              "      <td>0</td>\n",
              "      <td>0</td>\n",
              "    </tr>\n",
              "    <tr>\n",
              "      <th>AGUA SANTA</th>\n",
              "      <td>0</td>\n",
              "      <td>0</td>\n",
              "      <td>0</td>\n",
              "      <td>0</td>\n",
              "      <td>0</td>\n",
              "      <td>0</td>\n",
              "      <td>0</td>\n",
              "      <td>0</td>\n",
              "      <td>0</td>\n",
              "      <td>0</td>\n",
              "      <td>0</td>\n",
              "      <td>0</td>\n",
              "    </tr>\n",
              "    <tr>\n",
              "      <th>AGUDO</th>\n",
              "      <td>0</td>\n",
              "      <td>0</td>\n",
              "      <td>0</td>\n",
              "      <td>1</td>\n",
              "      <td>0</td>\n",
              "      <td>0</td>\n",
              "      <td>0</td>\n",
              "      <td>0</td>\n",
              "      <td>2</td>\n",
              "      <td>1</td>\n",
              "      <td>1</td>\n",
              "      <td>1</td>\n",
              "    </tr>\n",
              "    <tr>\n",
              "      <th>AJURICABA</th>\n",
              "      <td>0</td>\n",
              "      <td>0</td>\n",
              "      <td>0</td>\n",
              "      <td>0</td>\n",
              "      <td>0</td>\n",
              "      <td>0</td>\n",
              "      <td>0</td>\n",
              "      <td>0</td>\n",
              "      <td>0</td>\n",
              "      <td>0</td>\n",
              "      <td>0</td>\n",
              "      <td>0</td>\n",
              "    </tr>\n",
              "    <tr>\n",
              "      <th>ALECRIM</th>\n",
              "      <td>0</td>\n",
              "      <td>0</td>\n",
              "      <td>1</td>\n",
              "      <td>0</td>\n",
              "      <td>1</td>\n",
              "      <td>0</td>\n",
              "      <td>0</td>\n",
              "      <td>0</td>\n",
              "      <td>0</td>\n",
              "      <td>0</td>\n",
              "      <td>0</td>\n",
              "      <td>0</td>\n",
              "    </tr>\n",
              "  </tbody>\n",
              "</table>\n",
              "</div>"
            ],
            "text/plain": [
              "            jan  fev  mar  abr  mai  jun  jul  ago  set  out  nov  dez\n",
              "CIDADES                                                               \n",
              "ACEGUA        0    0    0    0    0    0    0    0    0    0    0    0\n",
              "AGUA SANTA    0    0    0    0    0    0    0    0    0    0    0    0\n",
              "AGUDO         0    0    0    1    0    0    0    0    2    1    1    1\n",
              "AJURICABA     0    0    0    0    0    0    0    0    0    0    0    0\n",
              "ALECRIM       0    0    1    0    1    0    0    0    0    0    0    0"
            ]
          },
          "metadata": {
            "tags": []
          },
          "execution_count": 106
        }
      ]
    },
    {
      "cell_type": "code",
      "metadata": {
        "id": "IOEoZzFKP5Tv",
        "colab_type": "code",
        "colab": {
          "base_uri": "https://localhost:8080/",
          "height": 238
        },
        "outputId": "abb5bc02-0d75-4ef5-d7bf-db3767354533"
      },
      "source": [
        "# verificar valores ausentes\n",
        "df_estupro.isnull().sum()"
      ],
      "execution_count": 107,
      "outputs": [
        {
          "output_type": "execute_result",
          "data": {
            "text/plain": [
              "jan    0\n",
              "fev    0\n",
              "mar    0\n",
              "abr    0\n",
              "mai    0\n",
              "jun    0\n",
              "jul    0\n",
              "ago    0\n",
              "set    0\n",
              "out    0\n",
              "nov    0\n",
              "dez    0\n",
              "dtype: int64"
            ]
          },
          "metadata": {
            "tags": []
          },
          "execution_count": 107
        }
      ]
    },
    {
      "cell_type": "code",
      "metadata": {
        "id": "X6Ix_bga5jDC",
        "colab_type": "code",
        "colab": {
          "base_uri": "https://localhost:8080/",
          "height": 173
        },
        "outputId": "0f143fc5-0826-4c4e-c745-29d053b26ee6"
      },
      "source": [
        "# adicionar coluna de total de ocorrências por município\n",
        "df_estupro['total'] = (df_estupro['jan'] + df_estupro['fev'] + df_estupro['mar'] + df_estupro['abr'] + df_estupro['mai'] + df_estupro['jun'] + \n",
        "                      df_estupro['jul'] + df_estupro['ago'] + df_estupro['set'] + df_estupro['out'] + df_estupro['nov'] + df_estupro['dez'])\n",
        "df_estupro.head(3)"
      ],
      "execution_count": 108,
      "outputs": [
        {
          "output_type": "execute_result",
          "data": {
            "text/html": [
              "<div>\n",
              "<style scoped>\n",
              "    .dataframe tbody tr th:only-of-type {\n",
              "        vertical-align: middle;\n",
              "    }\n",
              "\n",
              "    .dataframe tbody tr th {\n",
              "        vertical-align: top;\n",
              "    }\n",
              "\n",
              "    .dataframe thead th {\n",
              "        text-align: right;\n",
              "    }\n",
              "</style>\n",
              "<table border=\"1\" class=\"dataframe\">\n",
              "  <thead>\n",
              "    <tr style=\"text-align: right;\">\n",
              "      <th></th>\n",
              "      <th>jan</th>\n",
              "      <th>fev</th>\n",
              "      <th>mar</th>\n",
              "      <th>abr</th>\n",
              "      <th>mai</th>\n",
              "      <th>jun</th>\n",
              "      <th>jul</th>\n",
              "      <th>ago</th>\n",
              "      <th>set</th>\n",
              "      <th>out</th>\n",
              "      <th>nov</th>\n",
              "      <th>dez</th>\n",
              "      <th>total</th>\n",
              "    </tr>\n",
              "    <tr>\n",
              "      <th>CIDADES</th>\n",
              "      <th></th>\n",
              "      <th></th>\n",
              "      <th></th>\n",
              "      <th></th>\n",
              "      <th></th>\n",
              "      <th></th>\n",
              "      <th></th>\n",
              "      <th></th>\n",
              "      <th></th>\n",
              "      <th></th>\n",
              "      <th></th>\n",
              "      <th></th>\n",
              "      <th></th>\n",
              "    </tr>\n",
              "  </thead>\n",
              "  <tbody>\n",
              "    <tr>\n",
              "      <th>ACEGUA</th>\n",
              "      <td>0</td>\n",
              "      <td>0</td>\n",
              "      <td>0</td>\n",
              "      <td>0</td>\n",
              "      <td>0</td>\n",
              "      <td>0</td>\n",
              "      <td>0</td>\n",
              "      <td>0</td>\n",
              "      <td>0</td>\n",
              "      <td>0</td>\n",
              "      <td>0</td>\n",
              "      <td>0</td>\n",
              "      <td>0</td>\n",
              "    </tr>\n",
              "    <tr>\n",
              "      <th>AGUA SANTA</th>\n",
              "      <td>0</td>\n",
              "      <td>0</td>\n",
              "      <td>0</td>\n",
              "      <td>0</td>\n",
              "      <td>0</td>\n",
              "      <td>0</td>\n",
              "      <td>0</td>\n",
              "      <td>0</td>\n",
              "      <td>0</td>\n",
              "      <td>0</td>\n",
              "      <td>0</td>\n",
              "      <td>0</td>\n",
              "      <td>0</td>\n",
              "    </tr>\n",
              "    <tr>\n",
              "      <th>AGUDO</th>\n",
              "      <td>0</td>\n",
              "      <td>0</td>\n",
              "      <td>0</td>\n",
              "      <td>1</td>\n",
              "      <td>0</td>\n",
              "      <td>0</td>\n",
              "      <td>0</td>\n",
              "      <td>0</td>\n",
              "      <td>2</td>\n",
              "      <td>1</td>\n",
              "      <td>1</td>\n",
              "      <td>1</td>\n",
              "      <td>6</td>\n",
              "    </tr>\n",
              "  </tbody>\n",
              "</table>\n",
              "</div>"
            ],
            "text/plain": [
              "            jan  fev  mar  abr  mai  jun  jul  ago  set  out  nov  dez  total\n",
              "CIDADES                                                                      \n",
              "ACEGUA        0    0    0    0    0    0    0    0    0    0    0    0      0\n",
              "AGUA SANTA    0    0    0    0    0    0    0    0    0    0    0    0      0\n",
              "AGUDO         0    0    0    1    0    0    0    0    2    1    1    1      6"
            ]
          },
          "metadata": {
            "tags": []
          },
          "execution_count": 108
        }
      ]
    },
    {
      "cell_type": "code",
      "metadata": {
        "id": "bSDszuyV505b",
        "colab_type": "code",
        "colab": {
          "base_uri": "https://localhost:8080/",
          "height": 289
        },
        "outputId": "1a6bbbc1-30fc-4147-a7a7-fb8b40d7c1e3"
      },
      "source": [
        "# identificar número total de municípios e os 10 com maior percentual de ocorrências\n",
        "print(\"Número de municípios no dataset:\", df_estupro.shape[0])\n",
        "print('')\n",
        "print(\"ESTUPRO\")\n",
        "print('')\n",
        "print(((df_estupro.total/df_estupro.total.sum())*100).sort_values(ascending=False)[:10].round(2))"
      ],
      "execution_count": 109,
      "outputs": [
        {
          "output_type": "stream",
          "text": [
            "Número de municípios no dataset: 498\n",
            "\n",
            "ESTUPRO\n",
            "\n",
            "CIDADES\n",
            "PORTO ALEGRE     14.41\n",
            "CANOAS            4.96\n",
            "VIAMAO            4.61\n",
            "ALVORADA          3.97\n",
            "SANTA MARIA       3.79\n",
            "GRAVATAI          3.15\n",
            "NOVO HAMBURGO     3.09\n",
            "SAO LEOPOLDO      2.68\n",
            "PELOTAS           2.51\n",
            "URUGUAIANA        2.39\n",
            "Name: total, dtype: float64\n"
          ],
          "name": "stdout"
        }
      ]
    },
    {
      "cell_type": "markdown",
      "metadata": {
        "id": "QS4Tf8vRFAre",
        "colab_type": "text"
      },
      "source": [
        "### Tentativa de Feminicídio"
      ]
    },
    {
      "cell_type": "code",
      "metadata": {
        "id": "TVBjJZsl6msP",
        "colab_type": "code",
        "colab": {
          "base_uri": "https://localhost:8080/",
          "height": 235
        },
        "outputId": "3f6b965a-e230-4396-d91a-f47fe770e97e"
      },
      "source": [
        "# exibir as 5 primeiras entradas de Tentativa de Feminicídio\n",
        "df_femtent.head()"
      ],
      "execution_count": 110,
      "outputs": [
        {
          "output_type": "execute_result",
          "data": {
            "text/html": [
              "<div>\n",
              "<style scoped>\n",
              "    .dataframe tbody tr th:only-of-type {\n",
              "        vertical-align: middle;\n",
              "    }\n",
              "\n",
              "    .dataframe tbody tr th {\n",
              "        vertical-align: top;\n",
              "    }\n",
              "\n",
              "    .dataframe thead th {\n",
              "        text-align: right;\n",
              "    }\n",
              "</style>\n",
              "<table border=\"1\" class=\"dataframe\">\n",
              "  <thead>\n",
              "    <tr style=\"text-align: right;\">\n",
              "      <th></th>\n",
              "      <th>jan</th>\n",
              "      <th>fev</th>\n",
              "      <th>mar</th>\n",
              "      <th>abr</th>\n",
              "      <th>mai</th>\n",
              "      <th>jun</th>\n",
              "      <th>jul</th>\n",
              "      <th>ago</th>\n",
              "      <th>set</th>\n",
              "      <th>out</th>\n",
              "      <th>nov</th>\n",
              "      <th>dez</th>\n",
              "    </tr>\n",
              "    <tr>\n",
              "      <th>CIDADES</th>\n",
              "      <th></th>\n",
              "      <th></th>\n",
              "      <th></th>\n",
              "      <th></th>\n",
              "      <th></th>\n",
              "      <th></th>\n",
              "      <th></th>\n",
              "      <th></th>\n",
              "      <th></th>\n",
              "      <th></th>\n",
              "      <th></th>\n",
              "      <th></th>\n",
              "    </tr>\n",
              "  </thead>\n",
              "  <tbody>\n",
              "    <tr>\n",
              "      <th>ALEGRETE</th>\n",
              "      <td>0</td>\n",
              "      <td>0</td>\n",
              "      <td>1</td>\n",
              "      <td>0</td>\n",
              "      <td>1</td>\n",
              "      <td>0</td>\n",
              "      <td>0</td>\n",
              "      <td>0</td>\n",
              "      <td>0</td>\n",
              "      <td>0</td>\n",
              "      <td>0</td>\n",
              "      <td>0</td>\n",
              "    </tr>\n",
              "    <tr>\n",
              "      <th>ALPESTRE</th>\n",
              "      <td>0</td>\n",
              "      <td>0</td>\n",
              "      <td>0</td>\n",
              "      <td>0</td>\n",
              "      <td>0</td>\n",
              "      <td>0</td>\n",
              "      <td>0</td>\n",
              "      <td>0</td>\n",
              "      <td>1</td>\n",
              "      <td>0</td>\n",
              "      <td>0</td>\n",
              "      <td>0</td>\n",
              "    </tr>\n",
              "    <tr>\n",
              "      <th>ALVORADA</th>\n",
              "      <td>1</td>\n",
              "      <td>0</td>\n",
              "      <td>0</td>\n",
              "      <td>1</td>\n",
              "      <td>0</td>\n",
              "      <td>2</td>\n",
              "      <td>0</td>\n",
              "      <td>1</td>\n",
              "      <td>1</td>\n",
              "      <td>1</td>\n",
              "      <td>0</td>\n",
              "      <td>0</td>\n",
              "    </tr>\n",
              "    <tr>\n",
              "      <th>ANTA GORDA</th>\n",
              "      <td>0</td>\n",
              "      <td>0</td>\n",
              "      <td>0</td>\n",
              "      <td>0</td>\n",
              "      <td>0</td>\n",
              "      <td>0</td>\n",
              "      <td>0</td>\n",
              "      <td>0</td>\n",
              "      <td>0</td>\n",
              "      <td>1</td>\n",
              "      <td>0</td>\n",
              "      <td>0</td>\n",
              "    </tr>\n",
              "    <tr>\n",
              "      <th>ARARICA</th>\n",
              "      <td>0</td>\n",
              "      <td>0</td>\n",
              "      <td>0</td>\n",
              "      <td>0</td>\n",
              "      <td>0</td>\n",
              "      <td>1</td>\n",
              "      <td>0</td>\n",
              "      <td>0</td>\n",
              "      <td>0</td>\n",
              "      <td>0</td>\n",
              "      <td>0</td>\n",
              "      <td>0</td>\n",
              "    </tr>\n",
              "  </tbody>\n",
              "</table>\n",
              "</div>"
            ],
            "text/plain": [
              "            jan  fev  mar  abr  mai  jun  jul  ago  set  out  nov  dez\n",
              "CIDADES                                                               \n",
              "ALEGRETE      0    0    1    0    1    0    0    0    0    0    0    0\n",
              "ALPESTRE      0    0    0    0    0    0    0    0    1    0    0    0\n",
              "ALVORADA      1    0    0    1    0    2    0    1    1    1    0    0\n",
              "ANTA GORDA    0    0    0    0    0    0    0    0    0    1    0    0\n",
              "ARARICA       0    0    0    0    0    1    0    0    0    0    0    0"
            ]
          },
          "metadata": {
            "tags": []
          },
          "execution_count": 110
        }
      ]
    },
    {
      "cell_type": "code",
      "metadata": {
        "id": "-2bX2sN_QBRc",
        "colab_type": "code",
        "colab": {
          "base_uri": "https://localhost:8080/",
          "height": 238
        },
        "outputId": "3dea7042-b0c4-42d8-d5e3-aa1f5d308939"
      },
      "source": [
        "# verificar valores ausentes\n",
        "df_femtent.isnull().sum()"
      ],
      "execution_count": 111,
      "outputs": [
        {
          "output_type": "execute_result",
          "data": {
            "text/plain": [
              "jan    0\n",
              "fev    0\n",
              "mar    0\n",
              "abr    0\n",
              "mai    0\n",
              "jun    0\n",
              "jul    0\n",
              "ago    0\n",
              "set    0\n",
              "out    0\n",
              "nov    0\n",
              "dez    0\n",
              "dtype: int64"
            ]
          },
          "metadata": {
            "tags": []
          },
          "execution_count": 111
        }
      ]
    },
    {
      "cell_type": "code",
      "metadata": {
        "id": "bB6btu3j6rAJ",
        "colab_type": "code",
        "colab": {
          "base_uri": "https://localhost:8080/",
          "height": 173
        },
        "outputId": "d928906f-d86a-427e-8aa1-0c94411996e1"
      },
      "source": [
        "# adicionar coluna de total de ocorrências por município\n",
        "df_femtent['total'] = (df_femtent['jan'] + df_femtent['fev'] + df_femtent['mar'] + df_femtent['abr'] + df_femtent['mai'] + df_femtent['jun'] + \n",
        "                      df_femtent['jul'] + df_femtent['ago'] + df_femtent['set'] + df_femtent['out'] + df_femtent['nov'] + df_femtent['dez'])\n",
        "df_femtent.head(3)"
      ],
      "execution_count": 113,
      "outputs": [
        {
          "output_type": "execute_result",
          "data": {
            "text/html": [
              "<div>\n",
              "<style scoped>\n",
              "    .dataframe tbody tr th:only-of-type {\n",
              "        vertical-align: middle;\n",
              "    }\n",
              "\n",
              "    .dataframe tbody tr th {\n",
              "        vertical-align: top;\n",
              "    }\n",
              "\n",
              "    .dataframe thead th {\n",
              "        text-align: right;\n",
              "    }\n",
              "</style>\n",
              "<table border=\"1\" class=\"dataframe\">\n",
              "  <thead>\n",
              "    <tr style=\"text-align: right;\">\n",
              "      <th></th>\n",
              "      <th>jan</th>\n",
              "      <th>fev</th>\n",
              "      <th>mar</th>\n",
              "      <th>abr</th>\n",
              "      <th>mai</th>\n",
              "      <th>jun</th>\n",
              "      <th>jul</th>\n",
              "      <th>ago</th>\n",
              "      <th>set</th>\n",
              "      <th>out</th>\n",
              "      <th>nov</th>\n",
              "      <th>dez</th>\n",
              "      <th>total</th>\n",
              "    </tr>\n",
              "    <tr>\n",
              "      <th>CIDADES</th>\n",
              "      <th></th>\n",
              "      <th></th>\n",
              "      <th></th>\n",
              "      <th></th>\n",
              "      <th></th>\n",
              "      <th></th>\n",
              "      <th></th>\n",
              "      <th></th>\n",
              "      <th></th>\n",
              "      <th></th>\n",
              "      <th></th>\n",
              "      <th></th>\n",
              "      <th></th>\n",
              "    </tr>\n",
              "  </thead>\n",
              "  <tbody>\n",
              "    <tr>\n",
              "      <th>ALEGRETE</th>\n",
              "      <td>0</td>\n",
              "      <td>0</td>\n",
              "      <td>1</td>\n",
              "      <td>0</td>\n",
              "      <td>1</td>\n",
              "      <td>0</td>\n",
              "      <td>0</td>\n",
              "      <td>0</td>\n",
              "      <td>0</td>\n",
              "      <td>0</td>\n",
              "      <td>0</td>\n",
              "      <td>0</td>\n",
              "      <td>2</td>\n",
              "    </tr>\n",
              "    <tr>\n",
              "      <th>ALPESTRE</th>\n",
              "      <td>0</td>\n",
              "      <td>0</td>\n",
              "      <td>0</td>\n",
              "      <td>0</td>\n",
              "      <td>0</td>\n",
              "      <td>0</td>\n",
              "      <td>0</td>\n",
              "      <td>0</td>\n",
              "      <td>1</td>\n",
              "      <td>0</td>\n",
              "      <td>0</td>\n",
              "      <td>0</td>\n",
              "      <td>1</td>\n",
              "    </tr>\n",
              "    <tr>\n",
              "      <th>ALVORADA</th>\n",
              "      <td>1</td>\n",
              "      <td>0</td>\n",
              "      <td>0</td>\n",
              "      <td>1</td>\n",
              "      <td>0</td>\n",
              "      <td>2</td>\n",
              "      <td>0</td>\n",
              "      <td>1</td>\n",
              "      <td>1</td>\n",
              "      <td>1</td>\n",
              "      <td>0</td>\n",
              "      <td>0</td>\n",
              "      <td>7</td>\n",
              "    </tr>\n",
              "  </tbody>\n",
              "</table>\n",
              "</div>"
            ],
            "text/plain": [
              "          jan  fev  mar  abr  mai  jun  jul  ago  set  out  nov  dez  total\n",
              "CIDADES                                                                    \n",
              "ALEGRETE    0    0    1    0    1    0    0    0    0    0    0    0      2\n",
              "ALPESTRE    0    0    0    0    0    0    0    0    1    0    0    0      1\n",
              "ALVORADA    1    0    0    1    0    2    0    1    1    1    0    0      7"
            ]
          },
          "metadata": {
            "tags": []
          },
          "execution_count": 113
        }
      ]
    },
    {
      "cell_type": "code",
      "metadata": {
        "id": "XmKoVa5X66qT",
        "colab_type": "code",
        "colab": {
          "base_uri": "https://localhost:8080/",
          "height": 289
        },
        "outputId": "a2964d00-51cf-4134-aa74-a0a491df35e2"
      },
      "source": [
        "# identificar número total de municípios e os 10 com maior percentual de ocorrências\n",
        "print(\"Número de municípios no dataset:\", df_femtent.shape[0])\n",
        "print('')\n",
        "print(\"TENTATIVA DE FEMINICÍDIO\")\n",
        "print('')\n",
        "print(((df_femtent.total/df_femtent.total.sum())*100).sort_values(ascending=False)[:10].round(2))"
      ],
      "execution_count": 114,
      "outputs": [
        {
          "output_type": "stream",
          "text": [
            "Número de municípios no dataset: 117\n",
            "\n",
            "TENTATIVA DE FEMINICÍDIO\n",
            "\n",
            "CIDADES\n",
            "PORTO ALEGRE             17.83\n",
            "SAO LEOPOLDO              5.57\n",
            "PASSO FUNDO               5.57\n",
            "VIAMAO                    4.46\n",
            "SANTANA DO LIVRAMENTO     3.62\n",
            "PELOTAS                   2.51\n",
            "SANTA MARIA               2.51\n",
            "CAXIAS DO SUL             2.23\n",
            "CANOAS                    2.23\n",
            "GRAVATAI                  1.95\n",
            "Name: total, dtype: float64\n"
          ],
          "name": "stdout"
        }
      ]
    },
    {
      "cell_type": "markdown",
      "metadata": {
        "id": "Zh6qh5i_FFd9",
        "colab_type": "text"
      },
      "source": [
        "### Feminicídio"
      ]
    },
    {
      "cell_type": "code",
      "metadata": {
        "id": "ls6b4hvN6Dr9",
        "colab_type": "code",
        "colab": {
          "base_uri": "https://localhost:8080/",
          "height": 235
        },
        "outputId": "ad64bac3-bf4d-454d-8f03-c774189234b7"
      },
      "source": [
        "# exibir as 5 primeiras entradas de Feminicídio\n",
        "df_fem.head()"
      ],
      "execution_count": 115,
      "outputs": [
        {
          "output_type": "execute_result",
          "data": {
            "text/html": [
              "<div>\n",
              "<style scoped>\n",
              "    .dataframe tbody tr th:only-of-type {\n",
              "        vertical-align: middle;\n",
              "    }\n",
              "\n",
              "    .dataframe tbody tr th {\n",
              "        vertical-align: top;\n",
              "    }\n",
              "\n",
              "    .dataframe thead th {\n",
              "        text-align: right;\n",
              "    }\n",
              "</style>\n",
              "<table border=\"1\" class=\"dataframe\">\n",
              "  <thead>\n",
              "    <tr style=\"text-align: right;\">\n",
              "      <th></th>\n",
              "      <th>jan</th>\n",
              "      <th>fev</th>\n",
              "      <th>mar</th>\n",
              "      <th>abr</th>\n",
              "      <th>mai</th>\n",
              "      <th>jun</th>\n",
              "      <th>jul</th>\n",
              "      <th>ago</th>\n",
              "      <th>set</th>\n",
              "      <th>out</th>\n",
              "      <th>nov</th>\n",
              "      <th>dez</th>\n",
              "    </tr>\n",
              "    <tr>\n",
              "      <th>CIDADES</th>\n",
              "      <th></th>\n",
              "      <th></th>\n",
              "      <th></th>\n",
              "      <th></th>\n",
              "      <th></th>\n",
              "      <th></th>\n",
              "      <th></th>\n",
              "      <th></th>\n",
              "      <th></th>\n",
              "      <th></th>\n",
              "      <th></th>\n",
              "      <th></th>\n",
              "    </tr>\n",
              "  </thead>\n",
              "  <tbody>\n",
              "    <tr>\n",
              "      <th>ALEGRETE</th>\n",
              "      <td>0</td>\n",
              "      <td>0</td>\n",
              "      <td>0</td>\n",
              "      <td>1</td>\n",
              "      <td>0</td>\n",
              "      <td>0</td>\n",
              "      <td>0</td>\n",
              "      <td>0</td>\n",
              "      <td>0</td>\n",
              "      <td>0</td>\n",
              "      <td>0</td>\n",
              "      <td>0</td>\n",
              "    </tr>\n",
              "    <tr>\n",
              "      <th>ALVORADA</th>\n",
              "      <td>0</td>\n",
              "      <td>0</td>\n",
              "      <td>0</td>\n",
              "      <td>0</td>\n",
              "      <td>0</td>\n",
              "      <td>0</td>\n",
              "      <td>1</td>\n",
              "      <td>0</td>\n",
              "      <td>0</td>\n",
              "      <td>0</td>\n",
              "      <td>1</td>\n",
              "      <td>0</td>\n",
              "    </tr>\n",
              "    <tr>\n",
              "      <th>BENTO GONCALVES</th>\n",
              "      <td>0</td>\n",
              "      <td>0</td>\n",
              "      <td>0</td>\n",
              "      <td>0</td>\n",
              "      <td>0</td>\n",
              "      <td>0</td>\n",
              "      <td>1</td>\n",
              "      <td>1</td>\n",
              "      <td>0</td>\n",
              "      <td>0</td>\n",
              "      <td>1</td>\n",
              "      <td>0</td>\n",
              "    </tr>\n",
              "    <tr>\n",
              "      <th>BOM JESUS</th>\n",
              "      <td>0</td>\n",
              "      <td>0</td>\n",
              "      <td>0</td>\n",
              "      <td>0</td>\n",
              "      <td>0</td>\n",
              "      <td>0</td>\n",
              "      <td>1</td>\n",
              "      <td>0</td>\n",
              "      <td>0</td>\n",
              "      <td>0</td>\n",
              "      <td>0</td>\n",
              "      <td>1</td>\n",
              "    </tr>\n",
              "    <tr>\n",
              "      <th>BOM RETIRO DO SUL</th>\n",
              "      <td>0</td>\n",
              "      <td>0</td>\n",
              "      <td>0</td>\n",
              "      <td>0</td>\n",
              "      <td>0</td>\n",
              "      <td>0</td>\n",
              "      <td>0</td>\n",
              "      <td>0</td>\n",
              "      <td>1</td>\n",
              "      <td>0</td>\n",
              "      <td>0</td>\n",
              "      <td>0</td>\n",
              "    </tr>\n",
              "  </tbody>\n",
              "</table>\n",
              "</div>"
            ],
            "text/plain": [
              "                   jan  fev  mar  abr  mai  jun  jul  ago  set  out  nov  dez\n",
              "CIDADES                                                                      \n",
              "ALEGRETE             0    0    0    1    0    0    0    0    0    0    0    0\n",
              "ALVORADA             0    0    0    0    0    0    1    0    0    0    1    0\n",
              "BENTO GONCALVES      0    0    0    0    0    0    1    1    0    0    1    0\n",
              "BOM JESUS            0    0    0    0    0    0    1    0    0    0    0    1\n",
              "BOM RETIRO DO SUL    0    0    0    0    0    0    0    0    1    0    0    0"
            ]
          },
          "metadata": {
            "tags": []
          },
          "execution_count": 115
        }
      ]
    },
    {
      "cell_type": "code",
      "metadata": {
        "id": "fjExYChbQKA-",
        "colab_type": "code",
        "colab": {
          "base_uri": "https://localhost:8080/",
          "height": 238
        },
        "outputId": "967315a3-79c8-455f-befa-f6b31ceb40e4"
      },
      "source": [
        "# verificar valores ausentes\n",
        "df_fem.isnull().sum()"
      ],
      "execution_count": 116,
      "outputs": [
        {
          "output_type": "execute_result",
          "data": {
            "text/plain": [
              "jan    0\n",
              "fev    0\n",
              "mar    0\n",
              "abr    0\n",
              "mai    0\n",
              "jun    0\n",
              "jul    0\n",
              "ago    0\n",
              "set    0\n",
              "out    0\n",
              "nov    0\n",
              "dez    0\n",
              "dtype: int64"
            ]
          },
          "metadata": {
            "tags": []
          },
          "execution_count": 116
        }
      ]
    },
    {
      "cell_type": "code",
      "metadata": {
        "id": "XK8G5P7R6K1g",
        "colab_type": "code",
        "colab": {
          "base_uri": "https://localhost:8080/",
          "height": 173
        },
        "outputId": "57530728-e306-4b5b-ee51-b3608ffe086c"
      },
      "source": [
        "# adicionar coluna de total de ocorrências por município\n",
        "df_fem['total'] = (df_fem['jan'] + df_fem['fev'] + df_fem['mar'] + df_fem['abr'] + df_fem['mai'] + df_fem['jun'] + \n",
        "                      df_fem['jul'] + df_fem['ago'] + df_fem['set'] + df_fem['out'] + df_fem['nov'] + df_fem['dez'])\n",
        "df_fem.head(3)"
      ],
      "execution_count": 118,
      "outputs": [
        {
          "output_type": "execute_result",
          "data": {
            "text/html": [
              "<div>\n",
              "<style scoped>\n",
              "    .dataframe tbody tr th:only-of-type {\n",
              "        vertical-align: middle;\n",
              "    }\n",
              "\n",
              "    .dataframe tbody tr th {\n",
              "        vertical-align: top;\n",
              "    }\n",
              "\n",
              "    .dataframe thead th {\n",
              "        text-align: right;\n",
              "    }\n",
              "</style>\n",
              "<table border=\"1\" class=\"dataframe\">\n",
              "  <thead>\n",
              "    <tr style=\"text-align: right;\">\n",
              "      <th></th>\n",
              "      <th>jan</th>\n",
              "      <th>fev</th>\n",
              "      <th>mar</th>\n",
              "      <th>abr</th>\n",
              "      <th>mai</th>\n",
              "      <th>jun</th>\n",
              "      <th>jul</th>\n",
              "      <th>ago</th>\n",
              "      <th>set</th>\n",
              "      <th>out</th>\n",
              "      <th>nov</th>\n",
              "      <th>dez</th>\n",
              "      <th>total</th>\n",
              "    </tr>\n",
              "    <tr>\n",
              "      <th>CIDADES</th>\n",
              "      <th></th>\n",
              "      <th></th>\n",
              "      <th></th>\n",
              "      <th></th>\n",
              "      <th></th>\n",
              "      <th></th>\n",
              "      <th></th>\n",
              "      <th></th>\n",
              "      <th></th>\n",
              "      <th></th>\n",
              "      <th></th>\n",
              "      <th></th>\n",
              "      <th></th>\n",
              "    </tr>\n",
              "  </thead>\n",
              "  <tbody>\n",
              "    <tr>\n",
              "      <th>ALEGRETE</th>\n",
              "      <td>0</td>\n",
              "      <td>0</td>\n",
              "      <td>0</td>\n",
              "      <td>1</td>\n",
              "      <td>0</td>\n",
              "      <td>0</td>\n",
              "      <td>0</td>\n",
              "      <td>0</td>\n",
              "      <td>0</td>\n",
              "      <td>0</td>\n",
              "      <td>0</td>\n",
              "      <td>0</td>\n",
              "      <td>1</td>\n",
              "    </tr>\n",
              "    <tr>\n",
              "      <th>ALVORADA</th>\n",
              "      <td>0</td>\n",
              "      <td>0</td>\n",
              "      <td>0</td>\n",
              "      <td>0</td>\n",
              "      <td>0</td>\n",
              "      <td>0</td>\n",
              "      <td>1</td>\n",
              "      <td>0</td>\n",
              "      <td>0</td>\n",
              "      <td>0</td>\n",
              "      <td>1</td>\n",
              "      <td>0</td>\n",
              "      <td>2</td>\n",
              "    </tr>\n",
              "    <tr>\n",
              "      <th>BENTO GONCALVES</th>\n",
              "      <td>0</td>\n",
              "      <td>0</td>\n",
              "      <td>0</td>\n",
              "      <td>0</td>\n",
              "      <td>0</td>\n",
              "      <td>0</td>\n",
              "      <td>1</td>\n",
              "      <td>1</td>\n",
              "      <td>0</td>\n",
              "      <td>0</td>\n",
              "      <td>1</td>\n",
              "      <td>0</td>\n",
              "      <td>3</td>\n",
              "    </tr>\n",
              "  </tbody>\n",
              "</table>\n",
              "</div>"
            ],
            "text/plain": [
              "                 jan  fev  mar  abr  mai  jun  ...  ago  set  out  nov  dez  total\n",
              "CIDADES                                        ...                                \n",
              "ALEGRETE           0    0    0    1    0    0  ...    0    0    0    0    0      1\n",
              "ALVORADA           0    0    0    0    0    0  ...    0    0    0    1    0      2\n",
              "BENTO GONCALVES    0    0    0    0    0    0  ...    1    0    0    1    0      3\n",
              "\n",
              "[3 rows x 13 columns]"
            ]
          },
          "metadata": {
            "tags": []
          },
          "execution_count": 118
        }
      ]
    },
    {
      "cell_type": "code",
      "metadata": {
        "id": "nqbADZ8R6bgW",
        "colab_type": "code",
        "colab": {
          "base_uri": "https://localhost:8080/",
          "height": 289
        },
        "outputId": "e47c2ed6-3225-48a7-c82d-a4920e1e9433"
      },
      "source": [
        "# identificar número total de municípios e os 10 com maior percentual de ocorrências\n",
        "print(\"Número de municípios no dataset:\", df_fem.shape[0])\n",
        "print('')\n",
        "print(\"FEMINICÍDIO\")\n",
        "print('')\n",
        "print(((df_fem.total/df_fem.total.sum())*100).sort_values(ascending=False)[:10].round(2))"
      ],
      "execution_count": 119,
      "outputs": [
        {
          "output_type": "stream",
          "text": [
            "Número de municípios no dataset: 69\n",
            "\n",
            "FEMINICÍDIO\n",
            "\n",
            "CIDADES\n",
            "PORTO ALEGRE       6.19\n",
            "CAXIAS DO SUL      4.12\n",
            "SANTA MARIA        4.12\n",
            "PASSO FUNDO        3.09\n",
            "PELOTAS            3.09\n",
            "URUGUAIANA         3.09\n",
            "BENTO GONCALVES    3.09\n",
            "LAJEADO            2.06\n",
            "GRAVATAI           2.06\n",
            "ALVORADA           2.06\n",
            "Name: total, dtype: float64\n"
          ],
          "name": "stdout"
        }
      ]
    },
    {
      "cell_type": "markdown",
      "metadata": {
        "id": "7WK0NBQZASKC",
        "colab_type": "text"
      },
      "source": [
        "### Visualização dos Dados\n",
        "\n",
        "Agora que já foi determinado percentualmente os 10 principais municípios responsáveis por cada tipo de ocorrência, serão plotados a seguir estes resultados para melhor visualização. Os gráficos, no entanto, consideram os números absolutos de ocorrência e não seus percentuais."
      ]
    },
    {
      "cell_type": "code",
      "metadata": {
        "id": "zPIgFNF3IDtg",
        "colab_type": "code",
        "colab": {
          "base_uri": "https://localhost:8080/",
          "height": 293
        },
        "outputId": "d474eaa0-c243-49d6-af5a-940b6616de58"
      },
      "source": [
        "# plotar gráfico da ocorrência Ameaça\n",
        "fig, ax = plt.subplots()\n",
        "\n",
        "df_ameaca.total.sort_values(ascending=True)[488:498].plot(kind='barh',ax=ax, fontsize=9, title=\"Ameaça\")\n",
        "ax.grid(axis='x')\n",
        "plt.xlabel('Nº de Ocorrências')\n",
        "plt.ylabel('Cidades')\n",
        "plt.show()"
      ],
      "execution_count": 135,
      "outputs": [
        {
          "output_type": "display_data",
          "data": {
            "image/png": "[encoded data removed]",
            "text/plain": [
              "<Figure size 432x288 with 1 Axes>"
            ]
          },
          "metadata": {
            "tags": [],
            "needs_background": "light"
          }
        }
      ]
    },
    {
      "cell_type": "code",
      "metadata": {
        "id": "zAADnZesdze1",
        "colab_type": "code",
        "colab": {
          "base_uri": "https://localhost:8080/",
          "height": 293
        },
        "outputId": "28facc80-9a05-4a0a-ef69-35e5334fee37"
      },
      "source": [
        "# plotar gráfico da ocorrência Lesão Corporal\n",
        "fig, ax = plt.subplots()\n",
        "\n",
        "df_lesao.total.sort_values(ascending=True)[488:498].plot(kind='barh',ax=ax, fontsize=9, title=\"Lesão Corporal\")\n",
        "ax.grid(axis='x')\n",
        "plt.xlabel('Nº de Ocorrências')\n",
        "plt.ylabel('Cidades')\n",
        "plt.show()"
      ],
      "execution_count": 138,
      "outputs": [
        {
          "output_type": "display_data",
          "data": {
            "image/png": "[encoded data removed]",
            "text/plain": [
              "<Figure size 432x288 with 1 Axes>"
            ]
          },
          "metadata": {
            "tags": [],
            "needs_background": "light"
          }
        }
      ]
    },
    {
      "cell_type": "code",
      "metadata": {
        "id": "DGDIo1m_eF6O",
        "colab_type": "code",
        "colab": {
          "base_uri": "https://localhost:8080/",
          "height": 293
        },
        "outputId": "d79681e7-c693-4dc5-dba2-393648156d94"
      },
      "source": [
        "# plotar gráfico da ocorrência Estupro\n",
        "fig, ax = plt.subplots()\n",
        "\n",
        "df_estupro.total.sort_values(ascending=True)[488:498].plot(kind='barh',ax=ax, fontsize=9, title=\"Estupro\")\n",
        "ax.grid(axis='x')\n",
        "plt.xlabel('Nº de Ocorrências')\n",
        "plt.ylabel('Cidades')\n",
        "plt.show()"
      ],
      "execution_count": 139,
      "outputs": [
        {
          "output_type": "display_data",
          "data": {
            "image/png": "[encoded data removed]",
            "text/plain": [
              "<Figure size 432x288 with 1 Axes>"
            ]
          },
          "metadata": {
            "tags": [],
            "needs_background": "light"
          }
        }
      ]
    },
    {
      "cell_type": "code",
      "metadata": {
        "id": "h28Om-HAeSZn",
        "colab_type": "code",
        "colab": {
          "base_uri": "https://localhost:8080/",
          "height": 293
        },
        "outputId": "440ff234-9da1-4a3e-9b68-79bed8497396"
      },
      "source": [
        "# plotar gráfico da ocorrência Tentativa de Feminicídio\n",
        "fig, ax = plt.subplots()\n",
        "\n",
        "df_femtent.total.sort_values(ascending=True)[107:117].plot(kind='barh',ax=ax, fontsize=9, title=\"Tentativa de Feminicídio\")\n",
        "ax.grid(axis='x')\n",
        "plt.xlabel('Nº de Ocorrências')\n",
        "plt.ylabel('Cidades')\n",
        "plt.show()"
      ],
      "execution_count": 140,
      "outputs": [
        {
          "output_type": "display_data",
          "data": {
            "image/png": "[encoded data removed]",
            "text/plain": [
              "<Figure size 432x288 with 1 Axes>"
            ]
          },
          "metadata": {
            "tags": [],
            "needs_background": "light"
          }
        }
      ]
    },
    {
      "cell_type": "code",
      "metadata": {
        "id": "Gl9uqpPQRmWK",
        "colab_type": "code",
        "colab": {
          "base_uri": "https://localhost:8080/",
          "height": 293
        },
        "outputId": "411b4f9a-2c73-44fb-b130-a799ef35e237"
      },
      "source": [
        "# plotar gráfico da ocorrência Feminicídio\n",
        "fig, ax = plt.subplots()\n",
        "\n",
        "df_fem.total.sort_values(ascending=True)[59:69].plot(kind='barh',ax=ax, fontsize=9, title=\"Feminicídio\")\n",
        "ax.grid(axis='x')\n",
        "plt.xlabel('Nº de Ocorrências')\n",
        "plt.ylabel('Cidades')\n",
        "plt.show()"
      ],
      "execution_count": 141,
      "outputs": [
        {
          "output_type": "display_data",
          "data": {
            "image/png": "[encoded data removed]",
            "text/plain": [
              "<Figure size 432x288 with 1 Axes>"
            ]
          },
          "metadata": {
            "tags": [],
            "needs_background": "light"
          }
        }
      ]
    },
    {
      "cell_type": "markdown",
      "metadata": {
        "id": "-tgWnKE1PmcG",
        "colab_type": "text"
      },
      "source": [
        "Conforme o esperado, o município que está em primeiro lugar em todos os tipos de ocorrência é Porto Alegre, capital do Rio Grande do Sul e cidade com o maior número de habitantes do estado.\n",
        "\n",
        "A segunda cidade que mais se repete entre as primeiras posições é Canoas, que aparece três vezes, sempre na segunda colocação para as ocorrências de Ameaça, Lesão Corporal e Estupro. Em seguida, Caxias do Sul também com três recorrências, sendo segunda colocada em números de Feminicídio e terceira para Ameaça e Lesão Corporal."
      ]
    },
    {
      "cell_type": "markdown",
      "metadata": {
        "id": "LCsiXvM3BcsO",
        "colab_type": "text"
      },
      "source": [
        "## Conclusão\n",
        "\n",
        "Através da análise realizada, foi possível responder a algumas questões levantadas e entender melhor o cenário da violência contra a mulher no Rio Grande do Sul.\n",
        "\n",
        "Entre os anos de 2012 e 2019, foram registrados 536.108 notificações de algum tipo de violência no estado, das quais a mais frequente delas foi ameaça (61,37%), seguida por lesão corporal (35,77%), estupro (2,32%), tentativa de feminicídio (0,40%) e feminicídio (0,14%).\n",
        "\n",
        "As maiores ocorrências de feminicídio aconteceram no ano de 2018, não apenas em números absolutos, que somaram 116 casos, como também mensal, onde dois meses deste ano somaram 16 casos cada.\n",
        "\n",
        "Conforme pôde ser visto ao longo do estudo, num primeiro momento poderia se concluir que o número de ocorrências estava diminuindo, porém isso só se comprovou para os registros de ameaça e lesão corporal, os crimes mais graves não mostraram indícios de estarem decaindo.\n",
        "\n",
        "Curiosamente, ao longo dos oito anos avaliados, notou-se uma tendência maior de ocorrências durante o período do verão e uma menor tendência no período do inverno.\n",
        "\n",
        "Por fim, com relação aos municípios do estado e de acordo com a base de dados do ano de 2019, a capital gaúcha, Porto Alegre, está bem à frente das demais cidades quando o assunto é a violência contra a mulher. Neste caso, seria interessante fazer uma avaliação mais aprofundada para avaliar a distribuição incluindo a população de cada município.\n",
        "\n",
        "Como pode-se ver, os números são altos e continuam crescendo. É importante considerar, além de tudo que foi apresentado, que muitos casos de violência contra a mulher não são nem ao menos reportados, ou seja, o problema é ainda maior. \n",
        "\n",
        "Como reflexão, fica a informação publicada pela [GaúchaZH](https://gauchazh.clicrbs.com.br/seguranca/noticia/2020/03/casos-de-feminicidios-aumentam-no-rs-ck7pbyary03yz01oalwvuz0ou.html) em março de 2020: *apenas quatro das 97 vítimas de feminicídio ocorrido em 2019 contavam com medida protetiva de urgência (MPU).*\n",
        "\n"
      ]
    }
  ]
}
