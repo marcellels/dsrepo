{
  "nbformat": 4,
  "nbformat_minor": 0,
  "metadata": {
    "colab": {
      "name": "LSTM_Teste.ipynb",
      "provenance": [],
      "authorship_tag": "ABX9TyPBjM3RGdYwrVCcDET/2CIz",
      "include_colab_link": true
    },
    "kernelspec": {
      "name": "python3",
      "display_name": "Python 3"
    }
  },
  "cells": [
    {
      "cell_type": "markdown",
      "metadata": {
        "id": "view-in-github",
        "colab_type": "text"
      },
      "source": [
        "<a href=\"https://colab.research.google.com/github/marcellels/dsrepo/blob/master/LSTM_Teste.ipynb\" target=\"_parent\"><img src=\"https://colab.research.google.com/assets/colab-badge.svg\" alt=\"Open In Colab\"/></a>"
      ]
    },
    {
      "cell_type": "code",
      "metadata": {
        "id": "hczMJFjajwT-"
      },
      "source": [
        "# importar as bibliotecas necessárias\n",
        "import math\n",
        "import pandas as pd\n",
        "import numpy as np\n",
        "import matplotlib.pyplot as plt\n",
        "import tensorflow as tf\n",
        "from tensorflow import keras\n",
        "from keras.models import Sequential\n",
        "from keras.layers import LSTM, Dense, Dropout\n",
        "from sklearn.model_selection import TimeSeriesSplit\n",
        "from sklearn.preprocessing import MinMaxScaler\n",
        "from sklearn.metrics import mean_squared_error\n",
        "\n",
        "%tensorflow_version 2.x"
      ],
      "execution_count": 1,
      "outputs": []
    },
    {
      "cell_type": "code",
      "metadata": {
        "id": "uASZo2o_WRSl"
      },
      "source": [
        "# importar o arquivo .csv para um DataFrame\n",
        "dataset_path = 'https://raw.githubusercontent.com/marcellels/dsrepo/master/Database/Guaiba_2018_2019_met.csv'\n",
        "df = pd.read_csv(dataset_path, delimiter=';', decimal=',', encoding='ISO-8859-1')\n",
        "\n",
        "# ajustar a variável data para o tipo correspondente\n",
        "df.DATA = pd.to_datetime(df.DATA, format=\"%d-%m-%Y %H:%M\")"
      ],
      "execution_count": 2,
      "outputs": []
    },
    {
      "cell_type": "code",
      "metadata": {
        "id": "iGCdcc-WWaBc"
      },
      "source": [
        "# passar a coluna data para o index\n",
        "df_copy = df.copy()\n",
        "df_copy.index = df['DATA']\n",
        "\n",
        "# ajustar o dataset\n",
        "df_copy = df_copy.filter(['PM10']) # usar apenas a colona de PM10\n",
        "df_copy = df_copy[12:] # retira as 12 horas referente aos dados do dia 2 (NaN)\n",
        "dataset = df_copy.interpolate(method='linear') # interpola linearmente"
      ],
      "execution_count": 3,
      "outputs": []
    },
    {
      "cell_type": "markdown",
      "metadata": {
        "id": "8EoEXNY3VGrU"
      },
      "source": [
        "**A partir daqui tem problema**\n",
        "\n",
        "a normalização deveria ser feita após a divisão entre treino e teste. Faz o fit no x_train e depois transforma os demais de acordo\n",
        "\n",
        "a divisão está correta?"
      ]
    },
    {
      "cell_type": "code",
      "metadata": {
        "id": "aOY3SQnUzAZz"
      },
      "source": [
        "train_lenght = math.ceil( len(dataset) * 0.8)\n",
        "dataset = dataset.values"
      ],
      "execution_count": 4,
      "outputs": []
    },
    {
      "cell_type": "code",
      "metadata": {
        "id": "PZXXS8qVA9NA"
      },
      "source": [
        "# padronizar os dados com StandardScaler por causa do Gradient Descent\n",
        "scaler = MinMaxScaler(feature_range=(0, 1))\n",
        "scaled_data = scaler.fit_transform(dataset)"
      ],
      "execution_count": 5,
      "outputs": []
    },
    {
      "cell_type": "code",
      "metadata": {
        "id": "s7uR6WtnAeYm",
        "outputId": "db045d0f-962f-44b0-a1b7-c12c7b59d636",
        "colab": {
          "base_uri": "https://localhost:8080/",
          "height": 34
        }
      },
      "source": [
        "# definir intervalo de treino\n",
        "train = scaled_data[0:train_lenght , :]\n",
        "print('Nº de dados para treino\\t', len(train))"
      ],
      "execution_count": 6,
      "outputs": [
        {
          "output_type": "stream",
          "text": [
            "Nº de dados para treino\t 13706\n"
          ],
          "name": "stdout"
        }
      ]
    },
    {
      "cell_type": "code",
      "metadata": {
        "id": "qOWRemio2tEO"
      },
      "source": [
        "# dividir os dados entre x_train e y_train\n",
        "x_train = []\n",
        "y_train = []\n",
        "\n",
        "for i in range(60, len(train)):\n",
        "  x_train.append(train[i-60:i, 0])\n",
        "  y_train.append(train[i, 0])"
      ],
      "execution_count": 7,
      "outputs": []
    },
    {
      "cell_type": "code",
      "metadata": {
        "id": "BiQLo9N_AARp"
      },
      "source": [
        "# converter o x_train e o y_train para um array\n",
        "x_train, y_train = np.array(x_train), np.array(y_train)"
      ],
      "execution_count": 8,
      "outputs": []
    },
    {
      "cell_type": "code",
      "metadata": {
        "id": "rqU2nwdnBNj4",
        "outputId": "3c823986-799b-4628-cf9d-772aa06455af",
        "colab": {
          "base_uri": "https://localhost:8080/",
          "height": 34
        }
      },
      "source": [
        "# reshape the data\n",
        "x_train = np.reshape(x_train, (x_train.shape[0], x_train.shape[1], 1))\n",
        "x_train.shape"
      ],
      "execution_count": 9,
      "outputs": [
        {
          "output_type": "execute_result",
          "data": {
            "text/plain": [
              "(13646, 60, 1)"
            ]
          },
          "metadata": {
            "tags": []
          },
          "execution_count": 9
        }
      ]
    },
    {
      "cell_type": "code",
      "metadata": {
        "id": "u8rjGWgucqzf"
      },
      "source": [
        "# design network\n",
        "model = Sequential()\n",
        "model.add(LSTM(50, input_shape=(x_train.shape[1], 1)))\n",
        "#model.add(LSTM(50, return_sequences=False))\n",
        "#model.add(Dense(25))\n",
        "model.add(Dropout(0.3))\n",
        "model.add(Dense(1))"
      ],
      "execution_count": 10,
      "outputs": []
    },
    {
      "cell_type": "code",
      "metadata": {
        "id": "DtaYIxz-CwoQ"
      },
      "source": [
        "# compilar o modelo\n",
        "model.compile(loss='mean_squared_error', optimizer='adam')"
      ],
      "execution_count": 11,
      "outputs": []
    },
    {
      "cell_type": "code",
      "metadata": {
        "id": "QEBtvqlBDBjk",
        "outputId": "6abf9d5f-7dff-4a86-8020-8755e90cd278",
        "colab": {
          "base_uri": "https://localhost:8080/",
          "height": 1000
        }
      },
      "source": [
        "# treinar o modelo\n",
        "history = model.fit(x_train, y_train, epochs=50, batch_size=50, shuffle=False)"
      ],
      "execution_count": 12,
      "outputs": [
        {
          "output_type": "stream",
          "text": [
            "Epoch 1/50\n",
            "273/273 [==============================] - 7s 26ms/step - loss: 5.1473e-04\n",
            "Epoch 2/50\n",
            "273/273 [==============================] - 7s 26ms/step - loss: 3.7213e-04\n",
            "Epoch 3/50\n",
            "273/273 [==============================] - 7s 27ms/step - loss: 3.1290e-04\n",
            "Epoch 4/50\n",
            "273/273 [==============================] - 7s 27ms/step - loss: 2.9240e-04\n",
            "Epoch 5/50\n",
            "273/273 [==============================] - 7s 27ms/step - loss: 2.9013e-04\n",
            "Epoch 6/50\n",
            "273/273 [==============================] - 7s 27ms/step - loss: 2.8035e-04\n",
            "Epoch 7/50\n",
            "273/273 [==============================] - 7s 26ms/step - loss: 2.7366e-04\n",
            "Epoch 8/50\n",
            "273/273 [==============================] - 7s 27ms/step - loss: 2.6920e-04\n",
            "Epoch 9/50\n",
            "273/273 [==============================] - 7s 26ms/step - loss: 2.6777e-04\n",
            "Epoch 10/50\n",
            "273/273 [==============================] - 7s 27ms/step - loss: 2.7076e-04\n",
            "Epoch 11/50\n",
            "273/273 [==============================] - 7s 26ms/step - loss: 2.6869e-04\n",
            "Epoch 12/50\n",
            "273/273 [==============================] - 7s 26ms/step - loss: 2.6986e-04\n",
            "Epoch 13/50\n",
            "273/273 [==============================] - 7s 26ms/step - loss: 2.7008e-04\n",
            "Epoch 14/50\n",
            "273/273 [==============================] - 7s 27ms/step - loss: 2.6762e-04\n",
            "Epoch 15/50\n",
            "273/273 [==============================] - 7s 27ms/step - loss: 2.7660e-04\n",
            "Epoch 16/50\n",
            "273/273 [==============================] - 7s 26ms/step - loss: 2.7197e-04\n",
            "Epoch 17/50\n",
            "273/273 [==============================] - 7s 27ms/step - loss: 2.7025e-04\n",
            "Epoch 18/50\n",
            "273/273 [==============================] - 7s 27ms/step - loss: 2.6429e-04\n",
            "Epoch 19/50\n",
            "273/273 [==============================] - 7s 27ms/step - loss: 2.6374e-04\n",
            "Epoch 20/50\n",
            "273/273 [==============================] - 7s 27ms/step - loss: 2.6325e-04\n",
            "Epoch 21/50\n",
            "273/273 [==============================] - 7s 26ms/step - loss: 2.6728e-04\n",
            "Epoch 22/50\n",
            "273/273 [==============================] - 7s 27ms/step - loss: 2.6746e-04\n",
            "Epoch 23/50\n",
            "273/273 [==============================] - 7s 27ms/step - loss: 2.6183e-04\n",
            "Epoch 24/50\n",
            "273/273 [==============================] - 7s 26ms/step - loss: 2.5999e-04\n",
            "Epoch 25/50\n",
            "273/273 [==============================] - 7s 27ms/step - loss: 2.6022e-04\n",
            "Epoch 26/50\n",
            "273/273 [==============================] - 7s 27ms/step - loss: 2.6041e-04\n",
            "Epoch 27/50\n",
            "273/273 [==============================] - 7s 26ms/step - loss: 2.6066e-04\n",
            "Epoch 28/50\n",
            "273/273 [==============================] - 7s 26ms/step - loss: 2.5677e-04\n",
            "Epoch 29/50\n",
            "273/273 [==============================] - 7s 26ms/step - loss: 2.6351e-04\n",
            "Epoch 30/50\n",
            "273/273 [==============================] - 7s 27ms/step - loss: 2.6215e-04\n",
            "Epoch 31/50\n",
            "273/273 [==============================] - 7s 26ms/step - loss: 2.6015e-04\n",
            "Epoch 32/50\n",
            "273/273 [==============================] - 7s 27ms/step - loss: 2.5832e-04\n",
            "Epoch 33/50\n",
            "273/273 [==============================] - 7s 27ms/step - loss: 2.5377e-04\n",
            "Epoch 34/50\n",
            "273/273 [==============================] - 7s 26ms/step - loss: 2.5609e-04\n",
            "Epoch 35/50\n",
            "273/273 [==============================] - 7s 26ms/step - loss: 2.6056e-04\n",
            "Epoch 36/50\n",
            "273/273 [==============================] - 7s 27ms/step - loss: 2.5781e-04\n",
            "Epoch 37/50\n",
            "273/273 [==============================] - 7s 26ms/step - loss: 2.5755e-04\n",
            "Epoch 38/50\n",
            "273/273 [==============================] - 7s 26ms/step - loss: 2.5663e-04\n",
            "Epoch 39/50\n",
            "273/273 [==============================] - 7s 27ms/step - loss: 2.5888e-04\n",
            "Epoch 40/50\n",
            "273/273 [==============================] - 7s 26ms/step - loss: 2.6183e-04\n",
            "Epoch 41/50\n",
            "273/273 [==============================] - 7s 26ms/step - loss: 2.6342e-04\n",
            "Epoch 42/50\n",
            "273/273 [==============================] - 7s 26ms/step - loss: 2.5581e-04\n",
            "Epoch 43/50\n",
            "273/273 [==============================] - 7s 26ms/step - loss: 2.5697e-04\n",
            "Epoch 44/50\n",
            "273/273 [==============================] - 7s 26ms/step - loss: 2.5974e-04\n",
            "Epoch 45/50\n",
            "273/273 [==============================] - 7s 26ms/step - loss: 2.5620e-04\n",
            "Epoch 46/50\n",
            "273/273 [==============================] - 7s 26ms/step - loss: 2.6061e-04\n",
            "Epoch 47/50\n",
            "273/273 [==============================] - 8s 28ms/step - loss: 2.5392e-04\n",
            "Epoch 48/50\n",
            "273/273 [==============================] - 8s 28ms/step - loss: 2.5477e-04\n",
            "Epoch 49/50\n",
            "273/273 [==============================] - 7s 27ms/step - loss: 2.5583e-04\n",
            "Epoch 50/50\n",
            "273/273 [==============================] - 7s 26ms/step - loss: 2.5778e-04\n"
          ],
          "name": "stdout"
        }
      ]
    },
    {
      "cell_type": "code",
      "metadata": {
        "id": "b-LtJ7KOGRS7",
        "outputId": "c28260a1-8d8f-4c75-f9cf-2e0d77b61f5f",
        "colab": {
          "base_uri": "https://localhost:8080/",
          "height": 34
        }
      },
      "source": [
        "# definir intervalo de teste\n",
        "test = dataset[train_lenght - 60: , :]\n",
        "print('Nº de dados para treino\\t', len(test))"
      ],
      "execution_count": 13,
      "outputs": [
        {
          "output_type": "stream",
          "text": [
            "Nº de dados para treino\t 3486\n"
          ],
          "name": "stdout"
        }
      ]
    },
    {
      "cell_type": "code",
      "metadata": {
        "id": "ER-mD2qQGzlX"
      },
      "source": [
        "# criar o dataset x_test e y_test\n",
        "x_test = []\n",
        "y_test = dataset[train_lenght: , :]\n",
        "\n",
        "for i in range(60, len(test)):\n",
        "  x_test.append(test[i-60:i, 0])"
      ],
      "execution_count": 14,
      "outputs": []
    },
    {
      "cell_type": "code",
      "metadata": {
        "id": "lQudu3lxJBnm"
      },
      "source": [
        "# converter o x_test para um array\n",
        "x_test = np.array(x_test)"
      ],
      "execution_count": 15,
      "outputs": []
    },
    {
      "cell_type": "code",
      "metadata": {
        "id": "kAeoS9-gJT_i"
      },
      "source": [
        "# reshape the data para 3 dimension\n",
        "x_test = np.reshape(x_test, (x_test.shape[0], x_test.shape[1], 1))"
      ],
      "execution_count": 16,
      "outputs": []
    },
    {
      "cell_type": "code",
      "metadata": {
        "id": "DmDjkYoxJ0nh"
      },
      "source": [
        "# get the models prediction\n",
        "predictions = model.predict(x_test)\n",
        "predictions = scaler.inverse_transform(predictions)"
      ],
      "execution_count": 17,
      "outputs": []
    },
    {
      "cell_type": "code",
      "metadata": {
        "id": "fD1zGV0BLBGI",
        "outputId": "efda6960-7185-48b8-c656-41571de4970e",
        "colab": {
          "base_uri": "https://localhost:8080/",
          "height": 34
        }
      },
      "source": [
        "# calculate RMSE\n",
        "rmse = np.sqrt( np. mean( predictions - y_test )** 2 )\n",
        "rmse"
      ],
      "execution_count": 18,
      "outputs": [
        {
          "output_type": "execute_result",
          "data": {
            "text/plain": [
              "25.283233387106982"
            ]
          },
          "metadata": {
            "tags": []
          },
          "execution_count": 18
        }
      ]
    },
    {
      "cell_type": "markdown",
      "metadata": {
        "id": "Amfx8tX5HyR4"
      },
      "source": [
        "_________________________________________________________________\n",
        "\n",
        "Não considerar daqui adiante, apenas rascunho"
      ]
    },
    {
      "cell_type": "code",
      "metadata": {
        "id": "zwH4pg0M2eVi"
      },
      "source": [
        "plt.plot(history.history['loss'], 'b', label='training history')\n",
        "plt.plot(history.history['val_loss'],  'r',label='testing history')\n",
        "plt.legend()\n",
        "plt.show()"
      ],
      "execution_count": null,
      "outputs": []
    },
    {
      "cell_type": "code",
      "metadata": {
        "id": "CTqs2MEEDfYR",
        "outputId": "4daf064d-7ae1-4583-8dd7-aa3215a247f3",
        "colab": {
          "base_uri": "https://localhost:8080/",
          "height": 486
        }
      },
      "source": [
        "# plot history\n",
        "plt.plot(history.history['loss'], label='train')\n",
        "plt.plot(history.history['val_loss'], label='test')\n",
        "plt.legend()\n",
        "plt.show()"
      ],
      "execution_count": 23,
      "outputs": [
        {
          "output_type": "error",
          "ename": "KeyError",
          "evalue": "ignored",
          "traceback": [
            "\u001b[0;31m---------------------------------------------------------------------------\u001b[0m",
            "\u001b[0;31mKeyError\u001b[0m                                  Traceback (most recent call last)",
            "\u001b[0;32m<ipython-input-23-16b435b16438>\u001b[0m in \u001b[0;36m<module>\u001b[0;34m()\u001b[0m\n\u001b[1;32m      1\u001b[0m \u001b[0;31m# plot history\u001b[0m\u001b[0;34m\u001b[0m\u001b[0;34m\u001b[0m\u001b[0;34m\u001b[0m\u001b[0m\n\u001b[1;32m      2\u001b[0m \u001b[0mplt\u001b[0m\u001b[0;34m.\u001b[0m\u001b[0mplot\u001b[0m\u001b[0;34m(\u001b[0m\u001b[0mhistory\u001b[0m\u001b[0;34m.\u001b[0m\u001b[0mhistory\u001b[0m\u001b[0;34m[\u001b[0m\u001b[0;34m'loss'\u001b[0m\u001b[0;34m]\u001b[0m\u001b[0;34m,\u001b[0m \u001b[0mlabel\u001b[0m\u001b[0;34m=\u001b[0m\u001b[0;34m'train'\u001b[0m\u001b[0;34m)\u001b[0m\u001b[0;34m\u001b[0m\u001b[0;34m\u001b[0m\u001b[0m\n\u001b[0;32m----> 3\u001b[0;31m \u001b[0mplt\u001b[0m\u001b[0;34m.\u001b[0m\u001b[0mplot\u001b[0m\u001b[0;34m(\u001b[0m\u001b[0mhistory\u001b[0m\u001b[0;34m.\u001b[0m\u001b[0mhistory\u001b[0m\u001b[0;34m[\u001b[0m\u001b[0;34m'val_loss'\u001b[0m\u001b[0;34m]\u001b[0m\u001b[0;34m,\u001b[0m \u001b[0mlabel\u001b[0m\u001b[0;34m=\u001b[0m\u001b[0;34m'test'\u001b[0m\u001b[0;34m)\u001b[0m\u001b[0;34m\u001b[0m\u001b[0;34m\u001b[0m\u001b[0m\n\u001b[0m\u001b[1;32m      4\u001b[0m \u001b[0mplt\u001b[0m\u001b[0;34m.\u001b[0m\u001b[0mlegend\u001b[0m\u001b[0;34m(\u001b[0m\u001b[0;34m)\u001b[0m\u001b[0;34m\u001b[0m\u001b[0;34m\u001b[0m\u001b[0m\n\u001b[1;32m      5\u001b[0m \u001b[0mplt\u001b[0m\u001b[0;34m.\u001b[0m\u001b[0mshow\u001b[0m\u001b[0;34m(\u001b[0m\u001b[0;34m)\u001b[0m\u001b[0;34m\u001b[0m\u001b[0;34m\u001b[0m\u001b[0m\n",
            "\u001b[0;31mKeyError\u001b[0m: 'val_loss'"
          ]
        },
        {
          "output_type": "display_data",
          "data": {
            "image/png": "[encoded data removed]",
            "text/plain": [
              "<Figure size 432x288 with 1 Axes>"
            ]
          },
          "metadata": {
            "tags": [],
            "needs_background": "light"
          }
        }
      ]
    },
    {
      "cell_type": "code",
      "metadata": {
        "id": "DLoBf5xIL1F1"
      },
      "source": [
        "# Plot the data\n",
        "treino = dataset[:train_lenght] \n",
        "valid = dataset[train_lenght:]\n",
        "valid['Predictions'] = predictions\n",
        "\n",
        "#visualizar os dados\n",
        "plt. figure(figsize=(16, 8))\n",
        "plt.plot(treino['PM10'])\n",
        "plt.plot(valid['PM10', 'Predictions'])"
      ],
      "execution_count": null,
      "outputs": []
    },
    {
      "cell_type": "code",
      "metadata": {
        "id": "F66AjpFQXx-e"
      },
      "source": [
        "# dividir entre treino, validação e teste\n",
        "X_train_original, X_test, y_train_original, y_test = train_test_split(dataset.data, dataset.target)\n",
        "X_train, X_valid, y_train, y_valid = train_test_split(X_train_original, y_train_original)"
      ],
      "execution_count": null,
      "outputs": []
    },
    {
      "cell_type": "code",
      "metadata": {
        "id": "dEygA-tFYHhA"
      },
      "source": [
        "# padronizar os dados com StandardScaler por causa do Gradient Descent\n",
        "scaler = MinMaxScaler(feature_range=(0, 1))\n",
        "X_train = scaler.fit_transform(X_train)\n",
        "X_test = scaler.transform(X_test)\n",
        "X_valid = scaler.transform(X_valid)"
      ],
      "execution_count": null,
      "outputs": []
    },
    {
      "cell_type": "code",
      "metadata": {
        "id": "dtQghlMEHvwc"
      },
      "source": [
        ""
      ],
      "execution_count": null,
      "outputs": []
    },
    {
      "cell_type": "code",
      "metadata": {
        "id": "_5EQA5Rgqzxh"
      },
      "source": [
        "tscv = TimeSeriesSplit(n_splits=5)\n",
        "print(tscv)\n",
        "\n",
        "for train_index, test_index in tscv.split(X):\n",
        "     print(\"TRAIN:\", train_index, \"TEST:\", test_index)\n",
        "     X_train, X_test = X[train_index], X[test_index]\n",
        "     y_train, y_test = y[train_index], y[test_index]\n",
        "#TRAIN: [0] TEST: [1]\n",
        "#TRAIN: [0 1] TEST: [2]\n",
        "#TRAIN: [0 1 2] TEST: [3]\n",
        "#TRAIN: [0 1 2 3] TEST: [4]\n",
        "#TRAIN: [0 1 2 3 4] TEST: [5]"
      ],
      "execution_count": null,
      "outputs": []
    },
    {
      "cell_type": "code",
      "metadata": {
        "id": "h9NNcs8KdTZ7"
      },
      "source": [
        "# calculate RMSE\n",
        "rmse = sqrt(mean_squared_error(inv_y, inv_yhat))\n",
        "print('Test RMSE: %.3f' % rmse)"
      ],
      "execution_count": null,
      "outputs": []
    },
    {
      "cell_type": "code",
      "metadata": {
        "id": "vHWLH4AINo39"
      },
      "source": [
        "# converter o dataframe para um array\n",
        "valores = df_interp.values"
      ],
      "execution_count": null,
      "outputs": []
    },
    {
      "cell_type": "code",
      "metadata": {
        "id": "gmwTmFhVpiZa"
      },
      "source": [
        "# scale the data >>> aqui o cara normalizou todo o dataset, precisa ser apenas o treino primeiro?\n",
        "scaler = MinMaxScaler(feature_range=(0, 1))\n",
        "scaled = scaler.fit_transform(valores)"
      ],
      "execution_count": null,
      "outputs": []
    },
    {
      "cell_type": "code",
      "metadata": {
        "id": "M1Y33dl9TYkS"
      },
      "source": [
        "# design network\n",
        "model = Sequential()\n",
        "model.add(LSTM(50, input_shape=(X_train.shape[1:], train_X.shape[2])))\n",
        "model.add(Dense(1))\n",
        "\n",
        "# compilar\n",
        "model.compile(loss='mean_squared_error', optimizer='adam')\n",
        "\n",
        "# obter o histórico de loss\n",
        "history = model.fit(X_train, y_train, epochs=50, batch_size=72, validation_data=(X_valid, y_valid), verbose=2, shuffle=False)\n",
        "\n",
        "# plot history\n",
        "pyplot.plot(history.history['loss'], label='train')\n",
        "pyplot.plot(history.history['val_loss'], label='test')\n",
        "pyplot.legend()\n",
        "pyplot.show()"
      ],
      "execution_count": null,
      "outputs": []
    },
    {
      "cell_type": "code",
      "metadata": {
        "id": "e7ik4gfEUOVp"
      },
      "source": [
        "# make a prediction\n",
        "yhat = model.predict(test_X)\n",
        "test_X = test_X.reshape((test_X.shape[0], test_X.shape[2]))\n",
        "# invert scaling for forecast\n",
        "inv_yhat = concatenate((yhat, test_X[:, 1:]), axis=1)\n",
        "inv_yhat = scaler.inverse_transform(inv_yhat)\n",
        "inv_yhat = inv_yhat[:,0]\n",
        "# invert scaling for actual\n",
        "test_y = test_y.reshape((len(test_y), 1))\n",
        "inv_y = concatenate((test_y, test_X[:, 1:]), axis=1)\n",
        "inv_y = scaler.inverse_transform(inv_y)\n",
        "inv_y = inv_y[:,0]\n",
        "# calculate RMSE\n",
        "rmse = sqrt(mean_squared_error(inv_y, inv_yhat))\n",
        "print('Test RMSE: %.3f' % rmse)"
      ],
      "execution_count": null,
      "outputs": []
    }
  ]
}